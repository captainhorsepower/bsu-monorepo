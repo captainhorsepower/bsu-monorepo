{
 "cells": [
  {
   "cell_type": "code",
   "execution_count": 3,
   "metadata": {},
   "outputs": [],
   "source": [
    "import wikipedia as wiki"
   ]
  },
  {
   "cell_type": "code",
   "execution_count": 4,
   "metadata": {},
   "outputs": [
    {
     "data": {
      "text/plain": [
       "'Wikipedia ( (listen) wik-ih-PEE-dee-ə or  (listen) wik-ee-) is a multilingual open-collaborative online encyclopedia created and maintained by a community of volunteer editors using a wiki-based editing system. It is one of the 15 most popular websites as ranked by Alexa, as of August 2020. Featuring no advertisements, it is hosted by the Wikimedia Foundation, an American non-profit organization funded primarily through donations.\\nWikipedia was launched on January 15, 2001, by Jimmy Wales and Larry Sanger. Sanger coined its name as a portmanteau of \"wiki\" and \"encyclopedia\". It was initially an English-language encyclopedia, but versions in other languages were quickly developed. With 6.2 million articles, the English Wikipedia is the largest of the more than 300 Wikipedia encyclopedias. Overall, Wikipedia comprises more than 55 million articles attracting 1.7 billion unique visitors per month.\\nWikipedia has been criticized for its uneven accuracy and for exhibiting systemic bias, including gender bias, with the majority of editors being male. Edit-a-thons have been held to encourage female editors and increase the coverage of women\\'s topics. In 2006 Time magazine stated that the open-door policy of allowing anyone to edit had made Wikipedia the biggest and possibly the best encyclopedia in the world, and was a testament to the vision of Jimmy Wales. The project\\'s reputation improved further in the 2010s as it increased efforts to improve its quality and reliability. In 2018 Facebook and YouTube  announced that they would help users detect fake news by suggesting links to related Wikipedia articles.'"
      ]
     },
     "execution_count": 4,
     "metadata": {},
     "output_type": "execute_result"
    }
   ],
   "source": [
    "wiki.summary(\"Wikipedia\")"
   ]
  },
  {
   "cell_type": "code",
   "execution_count": 8,
   "metadata": {},
   "outputs": [],
   "source": [
    "ny = wiki.page(\"New York City\")"
   ]
  },
  {
   "cell_type": "code",
   "execution_count": 19,
   "metadata": {},
   "outputs": [
    {
     "data": {
      "text/plain": [
       "19064"
      ]
     },
     "execution_count": 19,
     "metadata": {},
     "output_type": "execute_result"
    }
   ],
   "source": [
    "ny.content.split(' ').__len__()"
   ]
  },
  {
   "cell_type": "markdown",
   "metadata": {},
   "source": [
    "# Фарм вики страниц\n",
    "\n",
    "\n",
    "Короче говоря, просто собрал рандомные странички в википедии с 900+ слов"
   ]
  },
  {
   "cell_type": "code",
   "execution_count": 15,
   "metadata": {
    "scrolled": true
   },
   "outputs": [
    {
     "data": {
      "text/plain": [
       "['Juan Guas',\n",
       " 'Jean-Marie Loret',\n",
       " 'Bang Min-ah',\n",
       " 'Incisura auriformis',\n",
       " 'Directorate of Military Intelligence',\n",
       " 'Cassandra Webb',\n",
       " 'Shanti Lowry',\n",
       " 'Dan Forest',\n",
       " 'Port of Newcastle',\n",
       " '1954–55 La Liga',\n",
       " 'Carlo Acquista',\n",
       " 'Ted Menze',\n",
       " 'Richard Pearson (physician)',\n",
       " 'William Stourton, 11th Baron Stourton',\n",
       " 'Barlow (musician)',\n",
       " 'Charles Tompson',\n",
       " 'Alfred A. Gemma',\n",
       " 'Gustav Lechner',\n",
       " 'Sadie Jaffar Mohammed',\n",
       " 'Arlington, New Jersey']"
      ]
     },
     "execution_count": 15,
     "metadata": {},
     "output_type": "execute_result"
    }
   ],
   "source": [
    "wiki.random(pages=20)"
   ]
  },
  {
   "cell_type": "code",
   "execution_count": null,
   "metadata": {},
   "outputs": [],
   "source": [
    "pages = []"
   ]
  },
  {
   "cell_type": "code",
   "execution_count": 43,
   "metadata": {},
   "outputs": [],
   "source": [
    "def random_wiki_pages(batch=5):\n",
    "    while True:\n",
    "        names = wiki.random(pages=batch)\n",
    "        for name in names:\n",
    "            try:\n",
    "                yield wiki.page(name)\n",
    "            except:\n",
    "                print('page not found?', name)\n",
    "        \n",
    "\n",
    "def at_least_n_words(page, n):\n",
    "    word_count = len(page.content.split(' '))\n",
    "    print('{:4d} words in \"{:s}\"'.format(word_count, page.title))\n",
    "    return word_count >= n  \n",
    "        "
   ]
  },
  {
   "cell_type": "code",
   "execution_count": 61,
   "metadata": {
    "scrolled": true
   },
   "outputs": [
    {
     "name": "stdout",
     "output_type": "stream",
     "text": [
      " 278 words in \"Ólöf Nordal\"\n",
      " 356 words in \"Perpetual access\"\n",
      " 227 words in \"Systematic Investment Plan\"\n",
      " 140 words in \"Amatopo Airstrip\"\n",
      " 262 words in \"José Félix Villarreal\"\n",
      "1484 words in \"Webster Springs, West Virginia\"\n",
      "  27 words in \"Phlyarus thailandensis\"\n",
      " 277 words in \"Dyfan Dwyfor\"\n",
      "1546 words in \"Anish Giri\"\n",
      " 865 words in \"RecargaPay\"\n",
      "  37 words in \"Mowtowr-e Sarhadi\"\n",
      " 233 words in \"Hexpad\"\n",
      " 469 words in \"Black Light (John McLaughlin album)\"\n",
      "  47 words in \"Kalateh-ye Shahida Zarsa\"\n",
      " 141 words in \"Sultan Azlan Shah Cup\"\n",
      " 437 words in \"Daniel Padilla Rocks with Yeng Constantino\"\n",
      " 440 words in \"Nested wells\"\n",
      "1393 words in \"Mary and Leigh Block Museum of Art\"\n",
      " 296 words in \"Seriously, Live! World Tour\"\n",
      " 630 words in \"Three Sisters Tavern\"\n",
      " 163 words in \"Leen Ryckaert\"\n",
      " 321 words in \"90th Delaware General Assembly\"\n",
      "  93 words in \"Yamaha TW200\"\n",
      "1226 words in \"A New Beginning (The Walking Dead)\"\n",
      "  78 words in \"Kouchibouguacis River\"\n",
      "  60 words in \"Jalan Bandar Seri Jempol\"\n",
      "  38 words in \"Lourdes Quiñones Canales\"\n",
      "  39 words in \"Hyperochtha\"\n",
      " 148 words in \"Burdur Province\"\n",
      "1874 words in \"Abraham I. Shiplacoff\"\n",
      "page not found? Earth Alliance\n",
      " 190 words in \"Harry Smith (American football)\"\n",
      " 459 words in \"Sarah M. Pike\"\n",
      "  22 words in \"Tmesisternus papuanus\"\n",
      "1539 words in \"Government Boarding School at Lac du Flambeau\"\n",
      "  35 words in \"Darbidu\"\n",
      " 207 words in \"Devon Kelly-Evans\"\n",
      " 245 words in \"Ice hockey in the Czech Republic\"\n",
      " 122 words in \"2006–07 Hoofdklasse\"\n",
      " 143 words in \"Joseph Stone House\"\n",
      " 127 words in \"Rashmi Thackeray\"\n",
      "  24 words in \"Mordellistena quinquemaculata\"\n",
      " 528 words in \"Remember the Daze\"\n",
      " 188 words in \"Janie Finlay\"\n",
      " 769 words in \"Beau Hill\"\n",
      " 173 words in \"Charles Floyd Hatcher\"\n",
      "page not found? Cedar Beach\n",
      " 110 words in \"2006 Thurrock Council election\"\n",
      "  38 words in \"1970–71 European Cup (handball)\"\n",
      "  55 words in \"Waizi\"\n",
      "  53 words in \"2016 Erste Bank Open – Doubles\"\n",
      " 190 words in \"Anuschka (film)\"\n",
      " 651 words in \"D\"\n",
      " 132 words in \"Utricularia welwitschii\"\n",
      " 399 words in \"Sven Jaschan\"\n",
      "  51 words in \"Tomáš Jenčo\"\n",
      " 916 words in \"Benny Sela\"\n",
      " 501 words in \"Anita Woolfolk Hoy\"\n",
      " 206 words in \"Furna (Brava)\"\n",
      "1769 words in \"French Holly\"\n",
      " 311 words in \"Six-banded distichodus\"\n",
      "3528 words in \"Brasenose College, Oxford\"\n",
      "  53 words in \"John Allen Clements\"\n",
      " 233 words in \"Prathipadu (SC) (Assembly constituency)\"\n",
      " 125 words in \"Elisha Beman\"\n",
      " 211 words in \"Baillie Island\"\n",
      "5602 words in \"Cowboys & Aliens\"\n",
      "page not found? Keelerville, Ontario\n",
      " 113 words in \"Ramal de Matosinhos\"\n",
      "2504 words in \"Bobby Radcliff\"\n",
      " 971 words in \"KPPC (AM)\"\n",
      " 312 words in \"Mikhail Blagosklonny\"\n",
      " 353 words in \"LA Sunshine\"\n",
      " 202 words in \"Anthony Page\"\n",
      "  67 words in \"Rew Street\"\n",
      "  38 words in \"Beyg Kandi, East Azerbaijan\"\n",
      "page not found? Second Beach\n",
      "  96 words in \"Arranz-Bravo Foundation\"\n",
      " 264 words in \"Tregardock and Treligga\"\n",
      "  94 words in \"Cliff Lee (outfielder)\"\n",
      "  12 words in \"Wilsontown, West Virginia\"\n",
      "page not found? Parametric\n",
      " 377 words in \"Nicolas de Plattemontagne\"\n",
      "  67 words in \"Konnex Records\"\n",
      " 154 words in \"Alfred Appel\"\n",
      "1213 words in \"Survey of Income and Program Participation\"\n",
      "  71 words in \"Martin Lewis (basketball)\"\n",
      "1630 words in \"Kerryn Phelps\"\n",
      " 124 words in \"Camp Zachary Taylor\"\n",
      " 129 words in \"Moghamarat ʽayn × 2\"\n",
      " 350 words in \"Frenchcreek Township, Venango County, Pennsylvania\"\n",
      "  26 words in \"Pokuplje\"\n",
      " 201 words in \"Aristotelia palamota\"\n",
      "  89 words in \"Stegne\"\n",
      "  55 words in \"Holly Creek Formation\"\n",
      "  32 words in \"Lamprochernes\"\n",
      " 300 words in \"Willie Sydnor\"\n",
      "  30 words in \"Dennis Tetteh\"\n",
      " 168 words in \"Fish Creek Bridge (Salem, Iowa)\"\n",
      " 384 words in \"Mønsted's House\"\n",
      " 126 words in \"Mudbrick stamp\"\n",
      "3941 words in \"Io (princely title)\"\n",
      "  43 words in \"Zal Darreh\"\n",
      " 266 words in \"Thomas M. Neuville\"\n",
      "2019 words in \"Progressive Conservative Party of Manitoba\"\n",
      "  82 words in \"McAdams Park\"\n",
      "  33 words in \"Bois-d'Arcy, Yvelines\"\n",
      "page not found? Sods (disambiguation)\n",
      "page not found? Flight 352\n",
      "1137 words in \"Charlie Chaplin filmography\"\n",
      "  47 words in \"FIBA Under-21 World Championship for Women\"\n",
      " 695 words in \"Carrabassett River\"\n",
      " 745 words in \"Tangle (TV series)\"\n",
      " 526 words in \"Kudumbavilakku\"\n",
      "6081 words in \"Anglo-Russian invasion of Holland\"\n",
      "3734 words in \"Solid modeling\"\n",
      "1493 words in \"James Kilgore\"\n",
      " 230 words in \"American Gaming Association\"\n",
      "  86 words in \"Syed Anayat Ali Shah\"\n",
      " 137 words in \"Adelind Horan\"\n",
      " 209 words in \"Anna Banti\"\n",
      "  83 words in \"Stairwell: Trapped in the World Trade Center\"\n",
      " 361 words in \"Peter Smith (historian)\"\n",
      "  89 words in \"Manu (Vidhan Sabha constituency)\"\n",
      " 801 words in \"Fartman (Howard Stern)\"\n",
      "  70 words in \"Ogre Municipality\"\n",
      "  99 words in \"Life Regarded as a Jigsaw Puzzle of Highly Lustrous Cats\"\n",
      " 919 words in \"Casper (cat)\"\n",
      " 104 words in \"Black Coffee (2007 film)\"\n",
      "  59 words in \"Carrhouse railway station\"\n",
      "2862 words in \"Semen\"\n",
      "  36 words in \"Saint-Palais-de-Négrignac\"\n",
      "2388 words in \"2012 Tour of California\"\n",
      " 187 words in \"South Tyneside Council elections\"\n",
      " 192 words in \"Shire of Orbost\"\n",
      "  48 words in \"Jicka\"\n",
      " 126 words in \"Micronations: The Lonely Planet Guide to Home-Made Nations\"\n",
      "  37 words in \"Saeki-ku, Hiroshima\"\n",
      " 350 words in \"Tropical horticulture\"\n",
      "  38 words in \"Alessandro Bellemo\"\n",
      "page not found? Chlorophyll d\n",
      "3705 words in \"Joseph Kentenich\"\n",
      " 117 words in \"Darren Fitzgerald\"\n",
      " 202 words in \"John Hunter (Australian footballer)\"\n",
      " 226 words in \"Mike Clelland\"\n",
      " 101 words in \"Lucien Mongrain\"\n",
      "  41 words in \"Jam, Semnan\"\n",
      " 187 words in \"Hydrogrossular\"\n",
      " 284 words in \"Itaconic acid\"\n",
      " 203 words in \"Sarah Nemtanu\"\n",
      " 263 words in \"Richard Daniel Roman\"\n",
      " 179 words in \"2020 CAF Super Cup (December)\"\n",
      "page not found? Nicholas Darnell (cricketer)\n",
      " 604 words in \"2000–01 National Division One\"\n",
      " 259 words in \"Huddleston Farmhouse\"\n",
      " 250 words in \"France in the Eurovision Song Contest 1967\"\n",
      " 170 words in \"Joyland: A hub for short fiction\"\n",
      " 131 words in \"Kalam Institute of Health Technology\"\n",
      " 239 words in \"William Henry Drew (missionary)\"\n",
      "  87 words in \"Notre Dame College of Engineering\"\n",
      " 315 words in \"Sundeved\"\n",
      " 391 words in \"Kempton, Illinois\"\n",
      "  40 words in \"USS Sierra\"\n",
      "  37 words in \"Anomaloglossus baeobatrachus\"\n",
      " 688 words in \"Charles R. Conn\"\n",
      " 844 words in \"2020 AFL Women's season\"\n",
      "  73 words in \"Andrey Gridin\"\n",
      " 179 words in \"South Hollywood–Sherman Line\"\n",
      "  44 words in \"Marnix Lameire\"\n",
      " 109 words in \"Zeno Ibsen Rossi\"\n",
      "4245 words in \"Treehouse of Horror\"\n",
      " 705 words in \"Undercover (Bulgarian TV series)\"\n",
      " 238 words in \"Nature Ganganbaigal\"\n",
      "  44 words in \"Real Aguascalientes\"\n",
      " 308 words in \"French Without Tears\"\n",
      " 367 words in \"The Uppsala River Rafting Event\"\n",
      " 762 words in \"Proteobacteria\"\n",
      "  76 words in \"Bongani Mahlangu\"\n",
      "1704 words in \"Louisiana Ragin' Cajuns\"\n",
      "  67 words in \"Lambert Strether\"\n",
      " 105 words in \"2006 West Bengal train explosion\"\n",
      " 244 words in \"John Wescott Myers\"\n",
      "  43 words in \"Bedenac\"\n",
      "page not found? Tappeh Bashi\n",
      " 424 words in \"Pledge to Africa Act\"\n",
      " 505 words in \"Chinese Whispers (Waterhouse)\"\n",
      " 375 words in \"Navoiy Region\"\n",
      "1006 words in \"Welfare biology\"\n",
      "page not found? Indiana Theatre\n",
      "1005 words in \"Gravesend (film)\"\n",
      "  91 words in \"Suwaiket Tower\"\n",
      "  54 words in \"List of covered bridges in Minnesota\"\n",
      " 105 words in \"The Volga Boatman (1936 film)\"\n",
      "  69 words in \"My Best Friend (2001 film)\"\n",
      "page not found? T&D\n",
      " 238 words in \"Jungle Jive\"\n",
      "page not found? Lake Como (disambiguation)\n",
      " 423 words in \"Glenmark Pharmaceuticals\"\n",
      " 409 words in \"Willow City, Texas\"\n",
      " 545 words in \"David Cross (musician)\"\n",
      "page not found? Lawrence (schooner)\n",
      " 589 words in \"Heinrich Köselitz\"\n",
      " 202 words in \"Joel Hirschhorn (geneticist)\"\n",
      " 244 words in \"Blackthorn Peak\"\n",
      "page not found? Cape Sterligov\n"
     ]
    },
    {
     "name": "stderr",
     "output_type": "stream",
     "text": [
      "Exception ignored in: <generator object random_wiki_pages at 0x10c3f7200>\n",
      "Traceback (most recent call last):\n",
      "  File \"<ipython-input-61-97f1ac8a3c5c>\", line 2, in <module>\n",
      "RuntimeError: generator ignored GeneratorExit\n"
     ]
    },
    {
     "ename": "KeyboardInterrupt",
     "evalue": "",
     "output_type": "error",
     "traceback": [
      "\u001b[0;31m---------------------------------------------------------------------------\u001b[0m",
      "\u001b[0;31mKeyboardInterrupt\u001b[0m                         Traceback (most recent call last)",
      "\u001b[0;32m<ipython-input-61-97f1ac8a3c5c>\u001b[0m in \u001b[0;36m<module>\u001b[0;34m\u001b[0m\n\u001b[1;32m      1\u001b[0m \u001b[0;32mfor\u001b[0m \u001b[0mpage\u001b[0m \u001b[0;32min\u001b[0m \u001b[0mrandom_wiki_pages\u001b[0m\u001b[0;34m(\u001b[0m\u001b[0;34m)\u001b[0m\u001b[0;34m:\u001b[0m\u001b[0;34m\u001b[0m\u001b[0;34m\u001b[0m\u001b[0m\n\u001b[0;32m----> 2\u001b[0;31m     \u001b[0;32mif\u001b[0m \u001b[0mat_least_n_words\u001b[0m\u001b[0;34m(\u001b[0m\u001b[0mpage\u001b[0m\u001b[0;34m,\u001b[0m \u001b[0mn\u001b[0m\u001b[0;34m=\u001b[0m\u001b[0;36m900\u001b[0m\u001b[0;34m)\u001b[0m\u001b[0;34m:\u001b[0m\u001b[0;34m\u001b[0m\u001b[0;34m\u001b[0m\u001b[0m\n\u001b[0m\u001b[1;32m      3\u001b[0m         \u001b[0mpages\u001b[0m\u001b[0;34m.\u001b[0m\u001b[0mappend\u001b[0m\u001b[0;34m(\u001b[0m\u001b[0mpage\u001b[0m\u001b[0;34m)\u001b[0m\u001b[0;34m\u001b[0m\u001b[0;34m\u001b[0m\u001b[0m\n",
      "\u001b[0;32m<ipython-input-43-59c4572c088b>\u001b[0m in \u001b[0;36mat_least_n_words\u001b[0;34m(page, n)\u001b[0m\n\u001b[1;32m     10\u001b[0m \u001b[0;34m\u001b[0m\u001b[0m\n\u001b[1;32m     11\u001b[0m \u001b[0;32mdef\u001b[0m \u001b[0mat_least_n_words\u001b[0m\u001b[0;34m(\u001b[0m\u001b[0mpage\u001b[0m\u001b[0;34m,\u001b[0m \u001b[0mn\u001b[0m\u001b[0;34m)\u001b[0m\u001b[0;34m:\u001b[0m\u001b[0;34m\u001b[0m\u001b[0;34m\u001b[0m\u001b[0m\n\u001b[0;32m---> 12\u001b[0;31m     \u001b[0mword_count\u001b[0m \u001b[0;34m=\u001b[0m \u001b[0mlen\u001b[0m\u001b[0;34m(\u001b[0m\u001b[0mpage\u001b[0m\u001b[0;34m.\u001b[0m\u001b[0mcontent\u001b[0m\u001b[0;34m.\u001b[0m\u001b[0msplit\u001b[0m\u001b[0;34m(\u001b[0m\u001b[0;34m' '\u001b[0m\u001b[0;34m)\u001b[0m\u001b[0;34m)\u001b[0m\u001b[0;34m\u001b[0m\u001b[0;34m\u001b[0m\u001b[0m\n\u001b[0m\u001b[1;32m     13\u001b[0m     \u001b[0mprint\u001b[0m\u001b[0;34m(\u001b[0m\u001b[0;34m'{:4d} words in \"{:s}\"'\u001b[0m\u001b[0;34m.\u001b[0m\u001b[0mformat\u001b[0m\u001b[0;34m(\u001b[0m\u001b[0mword_count\u001b[0m\u001b[0;34m,\u001b[0m \u001b[0mpage\u001b[0m\u001b[0;34m.\u001b[0m\u001b[0mtitle\u001b[0m\u001b[0;34m)\u001b[0m\u001b[0;34m)\u001b[0m\u001b[0;34m\u001b[0m\u001b[0;34m\u001b[0m\u001b[0m\n\u001b[1;32m     14\u001b[0m     \u001b[0;32mreturn\u001b[0m \u001b[0mword_count\u001b[0m \u001b[0;34m>=\u001b[0m \u001b[0mn\u001b[0m\u001b[0;34m\u001b[0m\u001b[0;34m\u001b[0m\u001b[0m\n",
      "\u001b[0;32m~/projects/BSU/December-2020/PIRV/.venv/lib/python3.9/site-packages/wikipedia/wikipedia.py\u001b[0m in \u001b[0;36mcontent\u001b[0;34m(self)\u001b[0m\n\u001b[1;32m    473\u001b[0m       \u001b[0;32melse\u001b[0m\u001b[0;34m:\u001b[0m\u001b[0;34m\u001b[0m\u001b[0;34m\u001b[0m\u001b[0m\n\u001b[1;32m    474\u001b[0m          \u001b[0mquery_params\u001b[0m\u001b[0;34m[\u001b[0m\u001b[0;34m'pageids'\u001b[0m\u001b[0;34m]\u001b[0m \u001b[0;34m=\u001b[0m \u001b[0mself\u001b[0m\u001b[0;34m.\u001b[0m\u001b[0mpageid\u001b[0m\u001b[0;34m\u001b[0m\u001b[0;34m\u001b[0m\u001b[0m\n\u001b[0;32m--> 475\u001b[0;31m       \u001b[0mrequest\u001b[0m \u001b[0;34m=\u001b[0m \u001b[0m_wiki_request\u001b[0m\u001b[0;34m(\u001b[0m\u001b[0mquery_params\u001b[0m\u001b[0;34m)\u001b[0m\u001b[0;34m\u001b[0m\u001b[0;34m\u001b[0m\u001b[0m\n\u001b[0m\u001b[1;32m    476\u001b[0m       \u001b[0mself\u001b[0m\u001b[0;34m.\u001b[0m\u001b[0m_content\u001b[0m     \u001b[0;34m=\u001b[0m \u001b[0mrequest\u001b[0m\u001b[0;34m[\u001b[0m\u001b[0;34m'query'\u001b[0m\u001b[0;34m]\u001b[0m\u001b[0;34m[\u001b[0m\u001b[0;34m'pages'\u001b[0m\u001b[0;34m]\u001b[0m\u001b[0;34m[\u001b[0m\u001b[0mself\u001b[0m\u001b[0;34m.\u001b[0m\u001b[0mpageid\u001b[0m\u001b[0;34m]\u001b[0m\u001b[0;34m[\u001b[0m\u001b[0;34m'extract'\u001b[0m\u001b[0;34m]\u001b[0m\u001b[0;34m\u001b[0m\u001b[0;34m\u001b[0m\u001b[0m\n\u001b[1;32m    477\u001b[0m       \u001b[0mself\u001b[0m\u001b[0;34m.\u001b[0m\u001b[0m_revision_id\u001b[0m \u001b[0;34m=\u001b[0m \u001b[0mrequest\u001b[0m\u001b[0;34m[\u001b[0m\u001b[0;34m'query'\u001b[0m\u001b[0;34m]\u001b[0m\u001b[0;34m[\u001b[0m\u001b[0;34m'pages'\u001b[0m\u001b[0;34m]\u001b[0m\u001b[0;34m[\u001b[0m\u001b[0mself\u001b[0m\u001b[0;34m.\u001b[0m\u001b[0mpageid\u001b[0m\u001b[0;34m]\u001b[0m\u001b[0;34m[\u001b[0m\u001b[0;34m'revisions'\u001b[0m\u001b[0;34m]\u001b[0m\u001b[0;34m[\u001b[0m\u001b[0;36m0\u001b[0m\u001b[0;34m]\u001b[0m\u001b[0;34m[\u001b[0m\u001b[0;34m'revid'\u001b[0m\u001b[0;34m]\u001b[0m\u001b[0;34m\u001b[0m\u001b[0;34m\u001b[0m\u001b[0m\n",
      "\u001b[0;32m~/projects/BSU/December-2020/PIRV/.venv/lib/python3.9/site-packages/wikipedia/wikipedia.py\u001b[0m in \u001b[0;36m_wiki_request\u001b[0;34m(params)\u001b[0m\n\u001b[1;32m    735\u001b[0m     \u001b[0mtime\u001b[0m\u001b[0;34m.\u001b[0m\u001b[0msleep\u001b[0m\u001b[0;34m(\u001b[0m\u001b[0mint\u001b[0m\u001b[0;34m(\u001b[0m\u001b[0mwait_time\u001b[0m\u001b[0;34m.\u001b[0m\u001b[0mtotal_seconds\u001b[0m\u001b[0;34m(\u001b[0m\u001b[0;34m)\u001b[0m\u001b[0;34m)\u001b[0m\u001b[0;34m)\u001b[0m\u001b[0;34m\u001b[0m\u001b[0;34m\u001b[0m\u001b[0m\n\u001b[1;32m    736\u001b[0m \u001b[0;34m\u001b[0m\u001b[0m\n\u001b[0;32m--> 737\u001b[0;31m   \u001b[0mr\u001b[0m \u001b[0;34m=\u001b[0m \u001b[0mrequests\u001b[0m\u001b[0;34m.\u001b[0m\u001b[0mget\u001b[0m\u001b[0;34m(\u001b[0m\u001b[0mAPI_URL\u001b[0m\u001b[0;34m,\u001b[0m \u001b[0mparams\u001b[0m\u001b[0;34m=\u001b[0m\u001b[0mparams\u001b[0m\u001b[0;34m,\u001b[0m \u001b[0mheaders\u001b[0m\u001b[0;34m=\u001b[0m\u001b[0mheaders\u001b[0m\u001b[0;34m)\u001b[0m\u001b[0;34m\u001b[0m\u001b[0;34m\u001b[0m\u001b[0m\n\u001b[0m\u001b[1;32m    738\u001b[0m \u001b[0;34m\u001b[0m\u001b[0m\n\u001b[1;32m    739\u001b[0m   \u001b[0;32mif\u001b[0m \u001b[0mRATE_LIMIT\u001b[0m\u001b[0;34m:\u001b[0m\u001b[0;34m\u001b[0m\u001b[0;34m\u001b[0m\u001b[0m\n",
      "\u001b[0;32m~/projects/BSU/December-2020/PIRV/.venv/lib/python3.9/site-packages/requests/api.py\u001b[0m in \u001b[0;36mget\u001b[0;34m(url, params, **kwargs)\u001b[0m\n\u001b[1;32m     74\u001b[0m \u001b[0;34m\u001b[0m\u001b[0m\n\u001b[1;32m     75\u001b[0m     \u001b[0mkwargs\u001b[0m\u001b[0;34m.\u001b[0m\u001b[0msetdefault\u001b[0m\u001b[0;34m(\u001b[0m\u001b[0;34m'allow_redirects'\u001b[0m\u001b[0;34m,\u001b[0m \u001b[0;32mTrue\u001b[0m\u001b[0;34m)\u001b[0m\u001b[0;34m\u001b[0m\u001b[0;34m\u001b[0m\u001b[0m\n\u001b[0;32m---> 76\u001b[0;31m     \u001b[0;32mreturn\u001b[0m \u001b[0mrequest\u001b[0m\u001b[0;34m(\u001b[0m\u001b[0;34m'get'\u001b[0m\u001b[0;34m,\u001b[0m \u001b[0murl\u001b[0m\u001b[0;34m,\u001b[0m \u001b[0mparams\u001b[0m\u001b[0;34m=\u001b[0m\u001b[0mparams\u001b[0m\u001b[0;34m,\u001b[0m \u001b[0;34m**\u001b[0m\u001b[0mkwargs\u001b[0m\u001b[0;34m)\u001b[0m\u001b[0;34m\u001b[0m\u001b[0;34m\u001b[0m\u001b[0m\n\u001b[0m\u001b[1;32m     77\u001b[0m \u001b[0;34m\u001b[0m\u001b[0m\n\u001b[1;32m     78\u001b[0m \u001b[0;34m\u001b[0m\u001b[0m\n",
      "\u001b[0;32m~/projects/BSU/December-2020/PIRV/.venv/lib/python3.9/site-packages/requests/api.py\u001b[0m in \u001b[0;36mrequest\u001b[0;34m(method, url, **kwargs)\u001b[0m\n\u001b[1;32m     59\u001b[0m     \u001b[0;31m# cases, and look like a memory leak in others.\u001b[0m\u001b[0;34m\u001b[0m\u001b[0;34m\u001b[0m\u001b[0;34m\u001b[0m\u001b[0m\n\u001b[1;32m     60\u001b[0m     \u001b[0;32mwith\u001b[0m \u001b[0msessions\u001b[0m\u001b[0;34m.\u001b[0m\u001b[0mSession\u001b[0m\u001b[0;34m(\u001b[0m\u001b[0;34m)\u001b[0m \u001b[0;32mas\u001b[0m \u001b[0msession\u001b[0m\u001b[0;34m:\u001b[0m\u001b[0;34m\u001b[0m\u001b[0;34m\u001b[0m\u001b[0m\n\u001b[0;32m---> 61\u001b[0;31m         \u001b[0;32mreturn\u001b[0m \u001b[0msession\u001b[0m\u001b[0;34m.\u001b[0m\u001b[0mrequest\u001b[0m\u001b[0;34m(\u001b[0m\u001b[0mmethod\u001b[0m\u001b[0;34m=\u001b[0m\u001b[0mmethod\u001b[0m\u001b[0;34m,\u001b[0m \u001b[0murl\u001b[0m\u001b[0;34m=\u001b[0m\u001b[0murl\u001b[0m\u001b[0;34m,\u001b[0m \u001b[0;34m**\u001b[0m\u001b[0mkwargs\u001b[0m\u001b[0;34m)\u001b[0m\u001b[0;34m\u001b[0m\u001b[0;34m\u001b[0m\u001b[0m\n\u001b[0m\u001b[1;32m     62\u001b[0m \u001b[0;34m\u001b[0m\u001b[0m\n\u001b[1;32m     63\u001b[0m \u001b[0;34m\u001b[0m\u001b[0m\n",
      "\u001b[0;32m~/projects/BSU/December-2020/PIRV/.venv/lib/python3.9/site-packages/requests/sessions.py\u001b[0m in \u001b[0;36mrequest\u001b[0;34m(self, method, url, params, data, headers, cookies, files, auth, timeout, allow_redirects, proxies, hooks, stream, verify, cert, json)\u001b[0m\n\u001b[1;32m    540\u001b[0m         }\n\u001b[1;32m    541\u001b[0m         \u001b[0msend_kwargs\u001b[0m\u001b[0;34m.\u001b[0m\u001b[0mupdate\u001b[0m\u001b[0;34m(\u001b[0m\u001b[0msettings\u001b[0m\u001b[0;34m)\u001b[0m\u001b[0;34m\u001b[0m\u001b[0;34m\u001b[0m\u001b[0m\n\u001b[0;32m--> 542\u001b[0;31m         \u001b[0mresp\u001b[0m \u001b[0;34m=\u001b[0m \u001b[0mself\u001b[0m\u001b[0;34m.\u001b[0m\u001b[0msend\u001b[0m\u001b[0;34m(\u001b[0m\u001b[0mprep\u001b[0m\u001b[0;34m,\u001b[0m \u001b[0;34m**\u001b[0m\u001b[0msend_kwargs\u001b[0m\u001b[0;34m)\u001b[0m\u001b[0;34m\u001b[0m\u001b[0;34m\u001b[0m\u001b[0m\n\u001b[0m\u001b[1;32m    543\u001b[0m \u001b[0;34m\u001b[0m\u001b[0m\n\u001b[1;32m    544\u001b[0m         \u001b[0;32mreturn\u001b[0m \u001b[0mresp\u001b[0m\u001b[0;34m\u001b[0m\u001b[0;34m\u001b[0m\u001b[0m\n",
      "\u001b[0;32m~/projects/BSU/December-2020/PIRV/.venv/lib/python3.9/site-packages/requests/sessions.py\u001b[0m in \u001b[0;36msend\u001b[0;34m(self, request, **kwargs)\u001b[0m\n\u001b[1;32m    675\u001b[0m             \u001b[0;31m# Redirect resolving generator.\u001b[0m\u001b[0;34m\u001b[0m\u001b[0;34m\u001b[0m\u001b[0;34m\u001b[0m\u001b[0m\n\u001b[1;32m    676\u001b[0m             \u001b[0mgen\u001b[0m \u001b[0;34m=\u001b[0m \u001b[0mself\u001b[0m\u001b[0;34m.\u001b[0m\u001b[0mresolve_redirects\u001b[0m\u001b[0;34m(\u001b[0m\u001b[0mr\u001b[0m\u001b[0;34m,\u001b[0m \u001b[0mrequest\u001b[0m\u001b[0;34m,\u001b[0m \u001b[0;34m**\u001b[0m\u001b[0mkwargs\u001b[0m\u001b[0;34m)\u001b[0m\u001b[0;34m\u001b[0m\u001b[0;34m\u001b[0m\u001b[0m\n\u001b[0;32m--> 677\u001b[0;31m             \u001b[0mhistory\u001b[0m \u001b[0;34m=\u001b[0m \u001b[0;34m[\u001b[0m\u001b[0mresp\u001b[0m \u001b[0;32mfor\u001b[0m \u001b[0mresp\u001b[0m \u001b[0;32min\u001b[0m \u001b[0mgen\u001b[0m\u001b[0;34m]\u001b[0m\u001b[0;34m\u001b[0m\u001b[0;34m\u001b[0m\u001b[0m\n\u001b[0m\u001b[1;32m    678\u001b[0m         \u001b[0;32melse\u001b[0m\u001b[0;34m:\u001b[0m\u001b[0;34m\u001b[0m\u001b[0;34m\u001b[0m\u001b[0m\n\u001b[1;32m    679\u001b[0m             \u001b[0mhistory\u001b[0m \u001b[0;34m=\u001b[0m \u001b[0;34m[\u001b[0m\u001b[0;34m]\u001b[0m\u001b[0;34m\u001b[0m\u001b[0;34m\u001b[0m\u001b[0m\n",
      "\u001b[0;32m~/projects/BSU/December-2020/PIRV/.venv/lib/python3.9/site-packages/requests/sessions.py\u001b[0m in \u001b[0;36m<listcomp>\u001b[0;34m(.0)\u001b[0m\n\u001b[1;32m    675\u001b[0m             \u001b[0;31m# Redirect resolving generator.\u001b[0m\u001b[0;34m\u001b[0m\u001b[0;34m\u001b[0m\u001b[0;34m\u001b[0m\u001b[0m\n\u001b[1;32m    676\u001b[0m             \u001b[0mgen\u001b[0m \u001b[0;34m=\u001b[0m \u001b[0mself\u001b[0m\u001b[0;34m.\u001b[0m\u001b[0mresolve_redirects\u001b[0m\u001b[0;34m(\u001b[0m\u001b[0mr\u001b[0m\u001b[0;34m,\u001b[0m \u001b[0mrequest\u001b[0m\u001b[0;34m,\u001b[0m \u001b[0;34m**\u001b[0m\u001b[0mkwargs\u001b[0m\u001b[0;34m)\u001b[0m\u001b[0;34m\u001b[0m\u001b[0;34m\u001b[0m\u001b[0m\n\u001b[0;32m--> 677\u001b[0;31m             \u001b[0mhistory\u001b[0m \u001b[0;34m=\u001b[0m \u001b[0;34m[\u001b[0m\u001b[0mresp\u001b[0m \u001b[0;32mfor\u001b[0m \u001b[0mresp\u001b[0m \u001b[0;32min\u001b[0m \u001b[0mgen\u001b[0m\u001b[0;34m]\u001b[0m\u001b[0;34m\u001b[0m\u001b[0;34m\u001b[0m\u001b[0m\n\u001b[0m\u001b[1;32m    678\u001b[0m         \u001b[0;32melse\u001b[0m\u001b[0;34m:\u001b[0m\u001b[0;34m\u001b[0m\u001b[0;34m\u001b[0m\u001b[0m\n\u001b[1;32m    679\u001b[0m             \u001b[0mhistory\u001b[0m \u001b[0;34m=\u001b[0m \u001b[0;34m[\u001b[0m\u001b[0;34m]\u001b[0m\u001b[0;34m\u001b[0m\u001b[0;34m\u001b[0m\u001b[0m\n",
      "\u001b[0;32m~/projects/BSU/December-2020/PIRV/.venv/lib/python3.9/site-packages/requests/sessions.py\u001b[0m in \u001b[0;36mresolve_redirects\u001b[0;34m(self, resp, req, stream, timeout, verify, cert, proxies, yield_requests, **adapter_kwargs)\u001b[0m\n\u001b[1;32m    235\u001b[0m             \u001b[0;32melse\u001b[0m\u001b[0;34m:\u001b[0m\u001b[0;34m\u001b[0m\u001b[0;34m\u001b[0m\u001b[0m\n\u001b[1;32m    236\u001b[0m \u001b[0;34m\u001b[0m\u001b[0m\n\u001b[0;32m--> 237\u001b[0;31m                 resp = self.send(\n\u001b[0m\u001b[1;32m    238\u001b[0m                     \u001b[0mreq\u001b[0m\u001b[0;34m,\u001b[0m\u001b[0;34m\u001b[0m\u001b[0;34m\u001b[0m\u001b[0m\n\u001b[1;32m    239\u001b[0m                     \u001b[0mstream\u001b[0m\u001b[0;34m=\u001b[0m\u001b[0mstream\u001b[0m\u001b[0;34m,\u001b[0m\u001b[0;34m\u001b[0m\u001b[0;34m\u001b[0m\u001b[0m\n",
      "\u001b[0;32m~/projects/BSU/December-2020/PIRV/.venv/lib/python3.9/site-packages/requests/sessions.py\u001b[0m in \u001b[0;36msend\u001b[0;34m(self, request, **kwargs)\u001b[0m\n\u001b[1;32m    653\u001b[0m \u001b[0;34m\u001b[0m\u001b[0m\n\u001b[1;32m    654\u001b[0m         \u001b[0;31m# Send the request\u001b[0m\u001b[0;34m\u001b[0m\u001b[0;34m\u001b[0m\u001b[0;34m\u001b[0m\u001b[0m\n\u001b[0;32m--> 655\u001b[0;31m         \u001b[0mr\u001b[0m \u001b[0;34m=\u001b[0m \u001b[0madapter\u001b[0m\u001b[0;34m.\u001b[0m\u001b[0msend\u001b[0m\u001b[0;34m(\u001b[0m\u001b[0mrequest\u001b[0m\u001b[0;34m,\u001b[0m \u001b[0;34m**\u001b[0m\u001b[0mkwargs\u001b[0m\u001b[0;34m)\u001b[0m\u001b[0;34m\u001b[0m\u001b[0;34m\u001b[0m\u001b[0m\n\u001b[0m\u001b[1;32m    656\u001b[0m \u001b[0;34m\u001b[0m\u001b[0m\n\u001b[1;32m    657\u001b[0m         \u001b[0;31m# Total elapsed time of the request (approximately)\u001b[0m\u001b[0;34m\u001b[0m\u001b[0;34m\u001b[0m\u001b[0;34m\u001b[0m\u001b[0m\n",
      "\u001b[0;32m~/projects/BSU/December-2020/PIRV/.venv/lib/python3.9/site-packages/requests/adapters.py\u001b[0m in \u001b[0;36msend\u001b[0;34m(self, request, stream, timeout, verify, cert, proxies)\u001b[0m\n\u001b[1;32m    437\u001b[0m         \u001b[0;32mtry\u001b[0m\u001b[0;34m:\u001b[0m\u001b[0;34m\u001b[0m\u001b[0;34m\u001b[0m\u001b[0m\n\u001b[1;32m    438\u001b[0m             \u001b[0;32mif\u001b[0m \u001b[0;32mnot\u001b[0m \u001b[0mchunked\u001b[0m\u001b[0;34m:\u001b[0m\u001b[0;34m\u001b[0m\u001b[0;34m\u001b[0m\u001b[0m\n\u001b[0;32m--> 439\u001b[0;31m                 resp = conn.urlopen(\n\u001b[0m\u001b[1;32m    440\u001b[0m                     \u001b[0mmethod\u001b[0m\u001b[0;34m=\u001b[0m\u001b[0mrequest\u001b[0m\u001b[0;34m.\u001b[0m\u001b[0mmethod\u001b[0m\u001b[0;34m,\u001b[0m\u001b[0;34m\u001b[0m\u001b[0;34m\u001b[0m\u001b[0m\n\u001b[1;32m    441\u001b[0m                     \u001b[0murl\u001b[0m\u001b[0;34m=\u001b[0m\u001b[0murl\u001b[0m\u001b[0;34m,\u001b[0m\u001b[0;34m\u001b[0m\u001b[0;34m\u001b[0m\u001b[0m\n",
      "\u001b[0;32m~/projects/BSU/December-2020/PIRV/.venv/lib/python3.9/site-packages/urllib3/connectionpool.py\u001b[0m in \u001b[0;36murlopen\u001b[0;34m(self, method, url, body, headers, retries, redirect, assert_same_host, timeout, pool_timeout, release_conn, chunked, body_pos, **response_kw)\u001b[0m\n\u001b[1;32m    697\u001b[0m \u001b[0;34m\u001b[0m\u001b[0m\n\u001b[1;32m    698\u001b[0m             \u001b[0;31m# Make the request on the httplib connection object.\u001b[0m\u001b[0;34m\u001b[0m\u001b[0;34m\u001b[0m\u001b[0;34m\u001b[0m\u001b[0m\n\u001b[0;32m--> 699\u001b[0;31m             httplib_response = self._make_request(\n\u001b[0m\u001b[1;32m    700\u001b[0m                 \u001b[0mconn\u001b[0m\u001b[0;34m,\u001b[0m\u001b[0;34m\u001b[0m\u001b[0;34m\u001b[0m\u001b[0m\n\u001b[1;32m    701\u001b[0m                 \u001b[0mmethod\u001b[0m\u001b[0;34m,\u001b[0m\u001b[0;34m\u001b[0m\u001b[0;34m\u001b[0m\u001b[0m\n",
      "\u001b[0;32m~/projects/BSU/December-2020/PIRV/.venv/lib/python3.9/site-packages/urllib3/connectionpool.py\u001b[0m in \u001b[0;36m_make_request\u001b[0;34m(self, conn, method, url, timeout, chunked, **httplib_request_kw)\u001b[0m\n\u001b[1;32m    443\u001b[0m                     \u001b[0;31m# Python 3 (including for exceptions like SystemExit).\u001b[0m\u001b[0;34m\u001b[0m\u001b[0;34m\u001b[0m\u001b[0;34m\u001b[0m\u001b[0m\n\u001b[1;32m    444\u001b[0m                     \u001b[0;31m# Otherwise it looks like a bug in the code.\u001b[0m\u001b[0;34m\u001b[0m\u001b[0;34m\u001b[0m\u001b[0;34m\u001b[0m\u001b[0m\n\u001b[0;32m--> 445\u001b[0;31m                     \u001b[0msix\u001b[0m\u001b[0;34m.\u001b[0m\u001b[0mraise_from\u001b[0m\u001b[0;34m(\u001b[0m\u001b[0me\u001b[0m\u001b[0;34m,\u001b[0m \u001b[0;32mNone\u001b[0m\u001b[0;34m)\u001b[0m\u001b[0;34m\u001b[0m\u001b[0;34m\u001b[0m\u001b[0m\n\u001b[0m\u001b[1;32m    446\u001b[0m         \u001b[0;32mexcept\u001b[0m \u001b[0;34m(\u001b[0m\u001b[0mSocketTimeout\u001b[0m\u001b[0;34m,\u001b[0m \u001b[0mBaseSSLError\u001b[0m\u001b[0;34m,\u001b[0m \u001b[0mSocketError\u001b[0m\u001b[0;34m)\u001b[0m \u001b[0;32mas\u001b[0m \u001b[0me\u001b[0m\u001b[0;34m:\u001b[0m\u001b[0;34m\u001b[0m\u001b[0;34m\u001b[0m\u001b[0m\n\u001b[1;32m    447\u001b[0m             \u001b[0mself\u001b[0m\u001b[0;34m.\u001b[0m\u001b[0m_raise_timeout\u001b[0m\u001b[0;34m(\u001b[0m\u001b[0merr\u001b[0m\u001b[0;34m=\u001b[0m\u001b[0me\u001b[0m\u001b[0;34m,\u001b[0m \u001b[0murl\u001b[0m\u001b[0;34m=\u001b[0m\u001b[0murl\u001b[0m\u001b[0;34m,\u001b[0m \u001b[0mtimeout_value\u001b[0m\u001b[0;34m=\u001b[0m\u001b[0mread_timeout\u001b[0m\u001b[0;34m)\u001b[0m\u001b[0;34m\u001b[0m\u001b[0;34m\u001b[0m\u001b[0m\n",
      "\u001b[0;32m~/projects/BSU/December-2020/PIRV/.venv/lib/python3.9/site-packages/urllib3/packages/six.py\u001b[0m in \u001b[0;36mraise_from\u001b[0;34m(value, from_value)\u001b[0m\n",
      "\u001b[0;32m~/projects/BSU/December-2020/PIRV/.venv/lib/python3.9/site-packages/urllib3/connectionpool.py\u001b[0m in \u001b[0;36m_make_request\u001b[0;34m(self, conn, method, url, timeout, chunked, **httplib_request_kw)\u001b[0m\n\u001b[1;32m    438\u001b[0m                 \u001b[0;31m# Python 3\u001b[0m\u001b[0;34m\u001b[0m\u001b[0;34m\u001b[0m\u001b[0;34m\u001b[0m\u001b[0m\n\u001b[1;32m    439\u001b[0m                 \u001b[0;32mtry\u001b[0m\u001b[0;34m:\u001b[0m\u001b[0;34m\u001b[0m\u001b[0;34m\u001b[0m\u001b[0m\n\u001b[0;32m--> 440\u001b[0;31m                     \u001b[0mhttplib_response\u001b[0m \u001b[0;34m=\u001b[0m \u001b[0mconn\u001b[0m\u001b[0;34m.\u001b[0m\u001b[0mgetresponse\u001b[0m\u001b[0;34m(\u001b[0m\u001b[0;34m)\u001b[0m\u001b[0;34m\u001b[0m\u001b[0;34m\u001b[0m\u001b[0m\n\u001b[0m\u001b[1;32m    441\u001b[0m                 \u001b[0;32mexcept\u001b[0m \u001b[0mBaseException\u001b[0m \u001b[0;32mas\u001b[0m \u001b[0me\u001b[0m\u001b[0;34m:\u001b[0m\u001b[0;34m\u001b[0m\u001b[0;34m\u001b[0m\u001b[0m\n\u001b[1;32m    442\u001b[0m                     \u001b[0;31m# Remove the TypeError from the exception chain in\u001b[0m\u001b[0;34m\u001b[0m\u001b[0;34m\u001b[0m\u001b[0;34m\u001b[0m\u001b[0m\n",
      "\u001b[0;32m/usr/local/Cellar/python@3.9/3.9.0_4/Frameworks/Python.framework/Versions/3.9/lib/python3.9/http/client.py\u001b[0m in \u001b[0;36mgetresponse\u001b[0;34m(self)\u001b[0m\n\u001b[1;32m   1345\u001b[0m         \u001b[0;32mtry\u001b[0m\u001b[0;34m:\u001b[0m\u001b[0;34m\u001b[0m\u001b[0;34m\u001b[0m\u001b[0m\n\u001b[1;32m   1346\u001b[0m             \u001b[0;32mtry\u001b[0m\u001b[0;34m:\u001b[0m\u001b[0;34m\u001b[0m\u001b[0;34m\u001b[0m\u001b[0m\n\u001b[0;32m-> 1347\u001b[0;31m                 \u001b[0mresponse\u001b[0m\u001b[0;34m.\u001b[0m\u001b[0mbegin\u001b[0m\u001b[0;34m(\u001b[0m\u001b[0;34m)\u001b[0m\u001b[0;34m\u001b[0m\u001b[0;34m\u001b[0m\u001b[0m\n\u001b[0m\u001b[1;32m   1348\u001b[0m             \u001b[0;32mexcept\u001b[0m \u001b[0mConnectionError\u001b[0m\u001b[0;34m:\u001b[0m\u001b[0;34m\u001b[0m\u001b[0;34m\u001b[0m\u001b[0m\n\u001b[1;32m   1349\u001b[0m                 \u001b[0mself\u001b[0m\u001b[0;34m.\u001b[0m\u001b[0mclose\u001b[0m\u001b[0;34m(\u001b[0m\u001b[0;34m)\u001b[0m\u001b[0;34m\u001b[0m\u001b[0;34m\u001b[0m\u001b[0m\n",
      "\u001b[0;32m/usr/local/Cellar/python@3.9/3.9.0_4/Frameworks/Python.framework/Versions/3.9/lib/python3.9/http/client.py\u001b[0m in \u001b[0;36mbegin\u001b[0;34m(self)\u001b[0m\n\u001b[1;32m    305\u001b[0m         \u001b[0;31m# read until we get a non-100 response\u001b[0m\u001b[0;34m\u001b[0m\u001b[0;34m\u001b[0m\u001b[0;34m\u001b[0m\u001b[0m\n\u001b[1;32m    306\u001b[0m         \u001b[0;32mwhile\u001b[0m \u001b[0;32mTrue\u001b[0m\u001b[0;34m:\u001b[0m\u001b[0;34m\u001b[0m\u001b[0;34m\u001b[0m\u001b[0m\n\u001b[0;32m--> 307\u001b[0;31m             \u001b[0mversion\u001b[0m\u001b[0;34m,\u001b[0m \u001b[0mstatus\u001b[0m\u001b[0;34m,\u001b[0m \u001b[0mreason\u001b[0m \u001b[0;34m=\u001b[0m \u001b[0mself\u001b[0m\u001b[0;34m.\u001b[0m\u001b[0m_read_status\u001b[0m\u001b[0;34m(\u001b[0m\u001b[0;34m)\u001b[0m\u001b[0;34m\u001b[0m\u001b[0;34m\u001b[0m\u001b[0m\n\u001b[0m\u001b[1;32m    308\u001b[0m             \u001b[0;32mif\u001b[0m \u001b[0mstatus\u001b[0m \u001b[0;34m!=\u001b[0m \u001b[0mCONTINUE\u001b[0m\u001b[0;34m:\u001b[0m\u001b[0;34m\u001b[0m\u001b[0;34m\u001b[0m\u001b[0m\n\u001b[1;32m    309\u001b[0m                 \u001b[0;32mbreak\u001b[0m\u001b[0;34m\u001b[0m\u001b[0;34m\u001b[0m\u001b[0m\n",
      "\u001b[0;32m/usr/local/Cellar/python@3.9/3.9.0_4/Frameworks/Python.framework/Versions/3.9/lib/python3.9/http/client.py\u001b[0m in \u001b[0;36m_read_status\u001b[0;34m(self)\u001b[0m\n\u001b[1;32m    266\u001b[0m \u001b[0;34m\u001b[0m\u001b[0m\n\u001b[1;32m    267\u001b[0m     \u001b[0;32mdef\u001b[0m \u001b[0m_read_status\u001b[0m\u001b[0;34m(\u001b[0m\u001b[0mself\u001b[0m\u001b[0;34m)\u001b[0m\u001b[0;34m:\u001b[0m\u001b[0;34m\u001b[0m\u001b[0;34m\u001b[0m\u001b[0m\n\u001b[0;32m--> 268\u001b[0;31m         \u001b[0mline\u001b[0m \u001b[0;34m=\u001b[0m \u001b[0mstr\u001b[0m\u001b[0;34m(\u001b[0m\u001b[0mself\u001b[0m\u001b[0;34m.\u001b[0m\u001b[0mfp\u001b[0m\u001b[0;34m.\u001b[0m\u001b[0mreadline\u001b[0m\u001b[0;34m(\u001b[0m\u001b[0m_MAXLINE\u001b[0m \u001b[0;34m+\u001b[0m \u001b[0;36m1\u001b[0m\u001b[0;34m)\u001b[0m\u001b[0;34m,\u001b[0m \u001b[0;34m\"iso-8859-1\"\u001b[0m\u001b[0;34m)\u001b[0m\u001b[0;34m\u001b[0m\u001b[0;34m\u001b[0m\u001b[0m\n\u001b[0m\u001b[1;32m    269\u001b[0m         \u001b[0;32mif\u001b[0m \u001b[0mlen\u001b[0m\u001b[0;34m(\u001b[0m\u001b[0mline\u001b[0m\u001b[0;34m)\u001b[0m \u001b[0;34m>\u001b[0m \u001b[0m_MAXLINE\u001b[0m\u001b[0;34m:\u001b[0m\u001b[0;34m\u001b[0m\u001b[0;34m\u001b[0m\u001b[0m\n\u001b[1;32m    270\u001b[0m             \u001b[0;32mraise\u001b[0m \u001b[0mLineTooLong\u001b[0m\u001b[0;34m(\u001b[0m\u001b[0;34m\"status line\"\u001b[0m\u001b[0;34m)\u001b[0m\u001b[0;34m\u001b[0m\u001b[0;34m\u001b[0m\u001b[0m\n",
      "\u001b[0;32m/usr/local/Cellar/python@3.9/3.9.0_4/Frameworks/Python.framework/Versions/3.9/lib/python3.9/socket.py\u001b[0m in \u001b[0;36mreadinto\u001b[0;34m(self, b)\u001b[0m\n\u001b[1;32m    702\u001b[0m         \u001b[0;32mwhile\u001b[0m \u001b[0;32mTrue\u001b[0m\u001b[0;34m:\u001b[0m\u001b[0;34m\u001b[0m\u001b[0;34m\u001b[0m\u001b[0m\n\u001b[1;32m    703\u001b[0m             \u001b[0;32mtry\u001b[0m\u001b[0;34m:\u001b[0m\u001b[0;34m\u001b[0m\u001b[0;34m\u001b[0m\u001b[0m\n\u001b[0;32m--> 704\u001b[0;31m                 \u001b[0;32mreturn\u001b[0m \u001b[0mself\u001b[0m\u001b[0;34m.\u001b[0m\u001b[0m_sock\u001b[0m\u001b[0;34m.\u001b[0m\u001b[0mrecv_into\u001b[0m\u001b[0;34m(\u001b[0m\u001b[0mb\u001b[0m\u001b[0;34m)\u001b[0m\u001b[0;34m\u001b[0m\u001b[0;34m\u001b[0m\u001b[0m\n\u001b[0m\u001b[1;32m    705\u001b[0m             \u001b[0;32mexcept\u001b[0m \u001b[0mtimeout\u001b[0m\u001b[0;34m:\u001b[0m\u001b[0;34m\u001b[0m\u001b[0;34m\u001b[0m\u001b[0m\n\u001b[1;32m    706\u001b[0m                 \u001b[0mself\u001b[0m\u001b[0;34m.\u001b[0m\u001b[0m_timeout_occurred\u001b[0m \u001b[0;34m=\u001b[0m \u001b[0;32mTrue\u001b[0m\u001b[0;34m\u001b[0m\u001b[0;34m\u001b[0m\u001b[0m\n",
      "\u001b[0;32m/usr/local/Cellar/python@3.9/3.9.0_4/Frameworks/Python.framework/Versions/3.9/lib/python3.9/ssl.py\u001b[0m in \u001b[0;36mrecv_into\u001b[0;34m(self, buffer, nbytes, flags)\u001b[0m\n\u001b[1;32m   1239\u001b[0m                   \u001b[0;34m\"non-zero flags not allowed in calls to recv_into() on %s\"\u001b[0m \u001b[0;34m%\u001b[0m\u001b[0;34m\u001b[0m\u001b[0;34m\u001b[0m\u001b[0m\n\u001b[1;32m   1240\u001b[0m                   self.__class__)\n\u001b[0;32m-> 1241\u001b[0;31m             \u001b[0;32mreturn\u001b[0m \u001b[0mself\u001b[0m\u001b[0;34m.\u001b[0m\u001b[0mread\u001b[0m\u001b[0;34m(\u001b[0m\u001b[0mnbytes\u001b[0m\u001b[0;34m,\u001b[0m \u001b[0mbuffer\u001b[0m\u001b[0;34m)\u001b[0m\u001b[0;34m\u001b[0m\u001b[0;34m\u001b[0m\u001b[0m\n\u001b[0m\u001b[1;32m   1242\u001b[0m         \u001b[0;32melse\u001b[0m\u001b[0;34m:\u001b[0m\u001b[0;34m\u001b[0m\u001b[0;34m\u001b[0m\u001b[0m\n\u001b[1;32m   1243\u001b[0m             \u001b[0;32mreturn\u001b[0m \u001b[0msuper\u001b[0m\u001b[0;34m(\u001b[0m\u001b[0;34m)\u001b[0m\u001b[0;34m.\u001b[0m\u001b[0mrecv_into\u001b[0m\u001b[0;34m(\u001b[0m\u001b[0mbuffer\u001b[0m\u001b[0;34m,\u001b[0m \u001b[0mnbytes\u001b[0m\u001b[0;34m,\u001b[0m \u001b[0mflags\u001b[0m\u001b[0;34m)\u001b[0m\u001b[0;34m\u001b[0m\u001b[0;34m\u001b[0m\u001b[0m\n",
      "\u001b[0;32m/usr/local/Cellar/python@3.9/3.9.0_4/Frameworks/Python.framework/Versions/3.9/lib/python3.9/ssl.py\u001b[0m in \u001b[0;36mread\u001b[0;34m(self, len, buffer)\u001b[0m\n\u001b[1;32m   1097\u001b[0m         \u001b[0;32mtry\u001b[0m\u001b[0;34m:\u001b[0m\u001b[0;34m\u001b[0m\u001b[0;34m\u001b[0m\u001b[0m\n\u001b[1;32m   1098\u001b[0m             \u001b[0;32mif\u001b[0m \u001b[0mbuffer\u001b[0m \u001b[0;32mis\u001b[0m \u001b[0;32mnot\u001b[0m \u001b[0;32mNone\u001b[0m\u001b[0;34m:\u001b[0m\u001b[0;34m\u001b[0m\u001b[0;34m\u001b[0m\u001b[0m\n\u001b[0;32m-> 1099\u001b[0;31m                 \u001b[0;32mreturn\u001b[0m \u001b[0mself\u001b[0m\u001b[0;34m.\u001b[0m\u001b[0m_sslobj\u001b[0m\u001b[0;34m.\u001b[0m\u001b[0mread\u001b[0m\u001b[0;34m(\u001b[0m\u001b[0mlen\u001b[0m\u001b[0;34m,\u001b[0m \u001b[0mbuffer\u001b[0m\u001b[0;34m)\u001b[0m\u001b[0;34m\u001b[0m\u001b[0;34m\u001b[0m\u001b[0m\n\u001b[0m\u001b[1;32m   1100\u001b[0m             \u001b[0;32melse\u001b[0m\u001b[0;34m:\u001b[0m\u001b[0;34m\u001b[0m\u001b[0;34m\u001b[0m\u001b[0m\n\u001b[1;32m   1101\u001b[0m                 \u001b[0;32mreturn\u001b[0m \u001b[0mself\u001b[0m\u001b[0;34m.\u001b[0m\u001b[0m_sslobj\u001b[0m\u001b[0;34m.\u001b[0m\u001b[0mread\u001b[0m\u001b[0;34m(\u001b[0m\u001b[0mlen\u001b[0m\u001b[0;34m)\u001b[0m\u001b[0;34m\u001b[0m\u001b[0;34m\u001b[0m\u001b[0m\n",
      "\u001b[0;31mKeyboardInterrupt\u001b[0m: "
     ]
    }
   ],
   "source": [
    "for page in random_wiki_pages():\n",
    "    if at_least_n_words(page, n=900):\n",
    "        pages.append(page)"
   ]
  },
  {
   "cell_type": "code",
   "execution_count": 62,
   "metadata": {},
   "outputs": [
    {
     "data": {
      "text/plain": [
       "89"
      ]
     },
     "execution_count": 62,
     "metadata": {},
     "output_type": "execute_result"
    }
   ],
   "source": [
    "len(pages)"
   ]
  },
  {
   "cell_type": "code",
   "execution_count": 94,
   "metadata": {},
   "outputs": [
    {
     "data": {
      "text/plain": [
       "['  770 Probalign',\n",
       " '  930 Benny Sela',\n",
       " '  935 Casper (cat)',\n",
       " '  943 J. T. Wise',\n",
       " '  961 Daryl Tuffey',\n",
       " '  962 Sleepwalker (The Kinks album)',\n",
       " '  964 Emilio Comici',\n",
       " '  975 Garry Williams (gridiron football)',\n",
       " '  984 Stratocracy',\n",
       " ' 1007 KPPC (AM)',\n",
       " ' 1041 Welfare biology',\n",
       " ' 1055 Gravesend (film)',\n",
       " ' 1059 Taliaferro County, Georgia',\n",
       " ' 1061 Dumped',\n",
       " ' 1068 Sushil Kumar (biologist)',\n",
       " ' 1097 Mandla Masango',\n",
       " ' 1161 Theistic science',\n",
       " ' 1178 Charlie Chaplin filmography',\n",
       " ' 1188 Swim Good',\n",
       " ' 1195 Michael D. Yapko',\n",
       " ' 1260 Arctic Cat',\n",
       " ' 1266 Survey of Income and Program Participation',\n",
       " ' 1268 A New Beginning (The Walking Dead)',\n",
       " ' 1273 Toe',\n",
       " ' 1285 Juhn Jai-hong',\n",
       " ' 1288 Faultline (musician)',\n",
       " ' 1309 MS Svea Regina',\n",
       " ' 1312 Edwin Flack',\n",
       " ' 1332 Abraham G. Mills',\n",
       " ' 1343 Barry and Stuart',\n",
       " ' 1412 Karl Friedrich Wilhelm Wander',\n",
       " ' 1424 Mary and Leigh Block Museum of Art',\n",
       " ' 1445 Maturin Murray Ballou',\n",
       " ' 1446 Geography of South India',\n",
       " ' 1464 The Marketplace at Steamtown',\n",
       " ' 1492 Lowell family',\n",
       " ' 1492 Rock or Bust',\n",
       " ' 1504 Government Boarding School at Lac du Flambeau',\n",
       " ' 1536 James Kilgore',\n",
       " ' 1543 USS Estocin',\n",
       " ' 1566 Gauri Ayyub',\n",
       " ' 1593 Webster Springs, West Virginia',\n",
       " ' 1613 Kachina',\n",
       " ' 1616 Anish Giri',\n",
       " ' 1627 John Levett (athlete)',\n",
       " ' 1682 Varuna',\n",
       " ' 1689 Barthélemy de Laffemas',\n",
       " ' 1704 Kerryn Phelps',\n",
       " ' 1814 French Holly',\n",
       " \" 1822 Louisiana Ragin' Cajuns\",\n",
       " ' 1852 Rough Cut (1980 film)',\n",
       " ' 1928 Abraham I. Shiplacoff',\n",
       " ' 1948 Orthomyxoviridae',\n",
       " ' 2099 Progressive Conservative Party of Manitoba',\n",
       " ' 2122 Advertising in the Middle East',\n",
       " ' 2144 Officine di Pietrarsa',\n",
       " ' 2146 Auckland Northern Motorway',\n",
       " ' 2153 John Moore, Baron Moore of Lower Marsh',\n",
       " ' 2155 All in a Row (play)',\n",
       " ' 2298 Gonville and Caius College, Cambridge',\n",
       " ' 2323 Pasir Ris',\n",
       " ' 2467 2012 Tour of California',\n",
       " ' 2528 Alexandru Ionescu (socialist militant)',\n",
       " ' 2581 Bobby Radcliff',\n",
       " ' 2622 Penn Relays',\n",
       " ' 2708 Kaolinite',\n",
       " ' 2788 Jules Ferry laws',\n",
       " ' 2809 List of Thor (Marvel Comics) enemies',\n",
       " ' 2915 Semen',\n",
       " ' 2986 Endowment effect',\n",
       " ' 3023 St Albans City F.C.',\n",
       " ' 3254 Names of Japan',\n",
       " ' 3381 School climate',\n",
       " ' 3478 Solid modeling',\n",
       " ' 3622 Brasenose College, Oxford',\n",
       " ' 3690 Vijñāna',\n",
       " ' 3760 Joseph Kentenich',\n",
       " ' 3815 English units',\n",
       " ' 4003 Tangled Up (Girls Aloud album)',\n",
       " ' 4143 Io (princely title)',\n",
       " ' 4210 Voter model',\n",
       " ' 4338 Treehouse of Horror',\n",
       " ' 4725 Lincoln Cathedral',\n",
       " ' 5002 2008 Baltimore Ravens season',\n",
       " ' 5769 Cowboys & Aliens',\n",
       " ' 6262 Anglo-Russian invasion of Holland',\n",
       " ' 6800 Marysville, Washington',\n",
       " ' 8805 Hemel Hempstead',\n",
       " ' 8981 2009 swine flu pandemic']"
      ]
     },
     "execution_count": 94,
     "metadata": {},
     "output_type": "execute_result"
    }
   ],
   "source": [
    "import re \n",
    "\n",
    "\n",
    "def sanitized_content(content):\n",
    "    with_spaces = re.sub(\"[^0-9a-zA-Z]+\", \" \", content)\n",
    "    return re.sub('\\\\s{2,}', ' ', with_spaces)\n",
    "\n",
    "\n",
    "def pageToMeta(p):\n",
    "    sanitized = sanitized_content(p.content)\n",
    "    return '{: 5d} {:s}'.format(len(sanitized.split(' ')), p.title)\n",
    "\n",
    "\n",
    "pageMeta = list(map(pageToMeta, pages))\n",
    "pageMeta.sort()\n",
    "pageMeta"
   ]
  },
  {
   "cell_type": "code",
   "execution_count": 96,
   "metadata": {},
   "outputs": [],
   "source": [
    "for page in pages:\n",
    "    filename = 'wiki/' + page.title.replace(' ', '_') + '.txt'\n",
    "    with open(filename, 'w') as f:\n",
    "        f.write(page.title + '\\n')\n",
    "        f.write(sanitized_content(page.content))"
   ]
  },
  {
   "cell_type": "code",
   "execution_count": 90,
   "metadata": {},
   "outputs": [
    {
     "data": {
      "text/plain": [
       "'French Without Tears is a comic play written by a 25 year old Terence Rattigan in 1936 Setting It takes place in a cram school for adults needing to acquire French for business reasons Scattered throughout are Franglais phrases and schoolboy misunderstandings of the French language The play was inspired by a 1933 visit to a village called Marxzell in the Black Forest where young English gentlemen went to cram German Reception The play was a success on its London debut establishing Rattigan as a dramatist Critics thought it gay witty thoroughly contemporary with a touch of lovable truth behind all its satire It ran for over 1 000 performances in London and over 100 in New York It also established Rex Harrison as a major star Original production The play directed by Harold French opened on 6 November 1936 at the Criterion Theatre London with the following cast Alan Howard Rex Harrison Brian Curtis Guy Middleton Commander Bill Rogers Roland Culver Diana Lake Kay Hammond Jacqueline Maingot Jessica Tandy Kenneth Lake Trevor Howard Kit Neilan Robert Flemyng Lord Heybrook William Dear Marianne t o Jacqueline Maingot Yvonne Andre Monsieur Maingot Percy Walsh Adaptations A film version directed by Anthony Asquith and starring Ray Milland was released in 1940 In 1960 Rattigan himself refashioned the work as the musical Joie de Vivre but it was not a success A television production was featured in the Saturday Playhouse TV series on 7 June 1958 with Denholm Elliott Elvi Hale Colin Broadley Nicholas Parsons and Andrew Irvine and another in the BBC s Play of the Month series on 16 May 1976 starring Nigel Havers Anthony Andrews and David Robb A radio version directed by Gerry Jones was broadcast on BBC Radio 4 on 25 December 1986 repeated on 14 May 1989 and 20 July 1992 References External links French Without Tears at the Internet Broadway Database'"
      ]
     },
     "execution_count": 90,
     "metadata": {},
     "output_type": "execute_result"
    }
   ],
   "source": [
    "page = wiki.page('French Without Tears')\n",
    "sanitized_content(page.content)"
   ]
  },
  {
   "cell_type": "code",
   "execution_count": 89,
   "metadata": {},
   "outputs": [
    {
     "data": {
      "text/plain": [
       "'a b'"
      ]
     },
     "execution_count": 89,
     "metadata": {},
     "output_type": "execute_result"
    }
   ],
   "source": [
    "re.sub('\\\\s{2,}', ' ', 'a    b')"
   ]
  },
  {
   "cell_type": "code",
   "execution_count": null,
   "metadata": {},
   "outputs": [],
   "source": []
  }
 ],
 "metadata": {
  "kernelspec": {
   "display_name": "wiki",
   "language": "python",
   "name": "wiki"
  },
  "language_info": {
   "codemirror_mode": {
    "name": "ipython",
    "version": 3
   },
   "file_extension": ".py",
   "mimetype": "text/x-python",
   "name": "python",
   "nbconvert_exporter": "python",
   "pygments_lexer": "ipython3",
   "version": "3.9.0"
  }
 },
 "nbformat": 4,
 "nbformat_minor": 4
}
