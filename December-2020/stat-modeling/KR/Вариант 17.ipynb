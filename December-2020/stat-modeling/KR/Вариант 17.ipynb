{
 "cells": [
  {
   "cell_type": "markdown",
   "metadata": {},
   "source": [
    "# 1\n",
    "\n",
    "1 -> 3 -> 2 -> 3"
   ]
  },
  {
   "cell_type": "markdown",
   "metadata": {},
   "source": [
    "# 2\n"
   ]
  },
  {
   "cell_type": "code",
   "execution_count": 87,
   "metadata": {
    "scrolled": true
   },
   "outputs": [
    {
     "data": {
      "image/png": "[encoded data removed]",
      "text/plain": [
       "<Figure size 432x288 with 1 Axes>"
      ]
     },
     "metadata": {
      "needs_background": "light"
     },
     "output_type": "display_data"
    }
   ],
   "source": [
    "import numpy as np\n",
    "import matplotlib.pyplot as plt\n",
    "import itertools\n",
    "\n",
    "# Fixing random state for reproducibility\n",
    "np.random.seed(19680801)\n",
    "\n",
    "\n",
    "def xi1(a):\n",
    "    if a < 9/17:\n",
    "        return 17 / 3 * a\n",
    "    else:\n",
    "        return np.sqrt(34 * a - 9)\n",
    "\n",
    "    \n",
    "def xi2(x, a):\n",
    "    if x < 3:  \n",
    "        return 3 * a\n",
    "    else:\n",
    "        return x * a\n",
    "\n",
    "    \n",
    "def bsv():\n",
    "    return np.random.uniform(0, 1)\n",
    "\n",
    "\n",
    "def random_points():\n",
    "    while True:\n",
    "        x = xi1(bsv())\n",
    "        y = xi2(x, bsv())\n",
    "        yield (x, y)\n",
    "\n",
    "N = 1000000\n",
    "points = np.fromiter(\\\n",
    "                     itertools.islice(random_points(), N), \\\n",
    "                     np.dtype('float,float'))\n",
    "\n",
    "x = np.fromiter(map(lambda t: t[0], points), np.float)\n",
    "y = np.fromiter(map(lambda t: t[1], points), np.float)\n",
    "plt.scatter(x, y, s=1, alpha=0.5, )\n",
    "plt.show()"
   ]
  },
  {
   "cell_type": "code",
   "execution_count": 90,
   "metadata": {},
   "outputs": [
    {
     "data": {
      "image/png": "[encoded data removed]",
      "text/plain": [
       "<Figure size 432x288 with 1 Axes>"
      ]
     },
     "metadata": {
      "needs_background": "light"
     },
     "output_type": "display_data"
    }
   ],
   "source": [
    "plt.hist2d(x, y, bins=9)\n",
    "plt.show()"
   ]
  },
  {
   "cell_type": "code",
   "execution_count": 73,
   "metadata": {},
   "outputs": [
    {
     "name": "stdout",
     "output_type": "stream",
     "text": [
      "4.422668877499196 1.0172138418248151\n"
     ]
    }
   ],
   "source": [
    "a1 = 0.84\n",
    "a2 = 0.23\n",
    "\n",
    "x = xi1(a1)\n",
    "y = xi2(x, a2)\n",
    "\n",
    "print(x, y)"
   ]
  },
  {
   "cell_type": "markdown",
   "metadata": {},
   "source": [
    "# 3"
   ]
  },
  {
   "cell_type": "markdown",
   "metadata": {},
   "source": [
    "на диске верно"
   ]
  },
  {
   "cell_type": "markdown",
   "metadata": {},
   "source": [
    "# 4\n"
   ]
  },
  {
   "cell_type": "code",
   "execution_count": 69,
   "metadata": {},
   "outputs": [
    {
     "name": "stdout",
     "output_type": "stream",
     "text": [
      "14.792510968188685\n"
     ]
    }
   ],
   "source": [
    "def xi(a):\n",
    "    return 10 / np.sqrt(1 - a)\n",
    "\n",
    "print(xi(0.543))"
   ]
  },
  {
   "cell_type": "code",
   "execution_count": null,
   "metadata": {},
   "outputs": [],
   "source": []
  }
 ],
 "metadata": {
  "kernelspec": {
   "display_name": "Python 3",
   "language": "python",
   "name": "python3"
  },
  "language_info": {
   "codemirror_mode": {
    "name": "ipython",
    "version": 3
   },
   "file_extension": ".py",
   "mimetype": "text/x-python",
   "name": "python",
   "nbconvert_exporter": "python",
   "pygments_lexer": "ipython3",
   "version": "3.9.0"
  }
 },
 "nbformat": 4,
 "nbformat_minor": 4
}
