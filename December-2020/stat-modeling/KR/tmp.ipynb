{
 "cells": [
  {
   "cell_type": "markdown",
   "metadata": {},
   "source": [
    "# 1\n",
    "\n",
    "$\\eta = \\xi_1 + \\xi_2$\n",
    "\n",
    "$\\xi_1 = R(3,6)$; $p_{\\xi_2}(x) = 3 e^{-x}$"
   ]
  },
  {
   "cell_type": "code",
   "execution_count": 112,
   "metadata": {},
   "outputs": [
    {
     "name": "stdout",
     "output_type": "stream",
     "text": [
      "eta= 5.802270388310513\n"
     ]
    }
   ],
   "source": [
    "import numpy as np\n",
    "\n",
    "# Базовые СВ\n",
    "alpha1 = 0.853 # xi_1\n",
    "alpha2 = 0.518 # xi_2\n",
    "\n",
    "# равномерное распределение (метод обратной функции)\n",
    "xi1 = (6-3) * alpha1 + 3\n",
    "\n",
    "# экспоненциальное распределение (метод обратной функции)\n",
    "xi2 = - 1/3 * np.log(1 - alpha2)\n",
    "\n",
    "\n",
    "print('eta=', xi1 + xi2)"
   ]
  },
  {
   "cell_type": "markdown",
   "metadata": {},
   "source": [
    "# 2\n",
    "\n",
    "Смоделировать случайный вектор $(\\xi_1, \\xi_2)$, равномерно распределённого в треугольнике (0,0) (0,2) (3,0)\n",
    "\n",
    "\n",
    "---\n",
    "\n",
    "В нашем случае: \n",
    "\n",
    "$\\xi_1 => F_{\\xi_1}^{-1}(y) =  3 - 3 * \\sqrt{1 - y}$\n",
    "\n",
    "$\\xi_2 => R(0, 2 - 2/3 \\xi_1), т.е. F_{\\xi_2}^{-1}(y) = (2 - 2/3 * \\xi_1) * y$"
   ]
  },
  {
   "cell_type": "code",
   "execution_count": 117,
   "metadata": {},
   "outputs": [
    {
     "name": "stdout",
     "output_type": "stream",
     "text": [
      "(xi_1, xi_2) = (0.75, 1.33965)\n"
     ]
    }
   ],
   "source": [
    "# БСВ\n",
    "alpha1 = 0.4375 # первый этап моделирования\n",
    "alpha2 = 0.3207 # второй этап моделирования\n",
    "\n",
    "\n",
    "def xi1(a):\n",
    "    return 3 - 3 * np.sqrt(1 - a)\n",
    "\n",
    "\n",
    "def xi2(x, a):\n",
    "    return a * (2 - 2 / 3 * x)\n",
    "\n",
    "\n",
    "x = xi1(alpha1)\n",
    "y = xi2(alpha2, x)\n",
    "\n",
    "print('(xi_1, xi_2) =', (x, y))"
   ]
  },
  {
   "cell_type": "code",
   "execution_count": 4,
   "metadata": {
    "scrolled": true
   },
   "outputs": [
    {
     "ename": "NameError",
     "evalue": "name 'np' is not defined",
     "output_type": "error",
     "traceback": [
      "\u001b[0;31m---------------------------------------------------------------------------\u001b[0m",
      "\u001b[0;31mNameError\u001b[0m                                 Traceback (most recent call last)",
      "\u001b[0;32m<ipython-input-4-c8dc62d1a937>\u001b[0m in \u001b[0;36m<module>\u001b[0;34m\u001b[0m\n\u001b[1;32m      5\u001b[0m \u001b[0;34m\u001b[0m\u001b[0m\n\u001b[1;32m      6\u001b[0m \u001b[0;31m# Fixing random state for reproducibility\u001b[0m\u001b[0;34m\u001b[0m\u001b[0;34m\u001b[0m\u001b[0;34m\u001b[0m\u001b[0m\n\u001b[0;32m----> 7\u001b[0;31m \u001b[0mnp\u001b[0m\u001b[0;34m.\u001b[0m\u001b[0mrandom\u001b[0m\u001b[0;34m.\u001b[0m\u001b[0mseed\u001b[0m\u001b[0;34m(\u001b[0m\u001b[0;36m19680801\u001b[0m\u001b[0;34m)\u001b[0m\u001b[0;34m\u001b[0m\u001b[0;34m\u001b[0m\u001b[0m\n\u001b[0m\u001b[1;32m      8\u001b[0m \u001b[0;34m\u001b[0m\u001b[0m\n\u001b[1;32m      9\u001b[0m \u001b[0;34m\u001b[0m\u001b[0m\n",
      "\u001b[0;31mNameError\u001b[0m: name 'np' is not defined"
     ]
    }
   ],
   "source": [
    "# Проверим, что это действительно равномерно распределено в треугольнике\n",
    "\n",
    "\n",
    "import matplotlib.pyplot as plt\n",
    "import itertools\n",
    "\n",
    "# Fixing random state for reproducibility\n",
    "np.random.seed(19680801)\n",
    "\n",
    "\n",
    "def bsv():\n",
    "    return np.random.uniform(0, 1)\n",
    "\n",
    "\n",
    "def random_points():\n",
    "    while True:\n",
    "        x = xi1(bsv())\n",
    "        y = xi2(x, bsv())\n",
    "        yield (x, y)\n",
    "\n",
    "N = 50000\n",
    "points = np.fromiter(\\\n",
    "                     itertools.islice(random_points(), N), \\\n",
    "                     np.dtype('float,float'))\n",
    "\n",
    "x = np.fromiter(map(lambda t: t[0], points), np.float)\n",
    "y = np.fromiter(map(lambda t: t[1], points), np.float)\n",
    "plt.scatter(x, y, s=1, alpha=0.5, )\n",
    "plt.show()"
   ]
  },
  {
   "cell_type": "code",
   "execution_count": 3,
   "metadata": {},
   "outputs": [
    {
     "ename": "NameError",
     "evalue": "name 'plt' is not defined",
     "output_type": "error",
     "traceback": [
      "\u001b[0;31m---------------------------------------------------------------------------\u001b[0m",
      "\u001b[0;31mNameError\u001b[0m                                 Traceback (most recent call last)",
      "\u001b[0;32m<ipython-input-3-c1434478b35e>\u001b[0m in \u001b[0;36m<module>\u001b[0;34m\u001b[0m\n\u001b[0;32m----> 1\u001b[0;31m \u001b[0mplt\u001b[0m\u001b[0;34m.\u001b[0m\u001b[0mhist2d\u001b[0m\u001b[0;34m(\u001b[0m\u001b[0mx\u001b[0m\u001b[0;34m,\u001b[0m \u001b[0my\u001b[0m\u001b[0;34m)\u001b[0m\u001b[0;34m\u001b[0m\u001b[0;34m\u001b[0m\u001b[0m\n\u001b[0m",
      "\u001b[0;31mNameError\u001b[0m: name 'plt' is not defined"
     ]
    }
   ],
   "source": [
    "plt.hist2d(x, y)"
   ]
  },
  {
   "cell_type": "code",
   "execution_count": 17,
   "metadata": {},
   "outputs": [
    {
     "data": {
      "text/plain": [
       "1.3912751393798888"
      ]
     },
     "execution_count": 17,
     "metadata": {},
     "output_type": "execute_result"
    }
   ],
   "source": [
    "np.random.uniform(0, 3)"
   ]
  },
  {
   "cell_type": "markdown",
   "metadata": {},
   "source": [
    "# 3\n",
    "\n",
    "Для интеграла \n",
    "\n",
    "$I = \\int_{0}^{\\pi/2}\\cos{2x},d{x}$\n",
    "\n",
    "Нужно указать СВ $\\xi$ как ф-ю от БСВ, найти $D\\{\\xi\\}$\n",
    "\n",
    "---\n",
    "\n",
    "$I = \\int_{0}^{\\pi/2}\\cos{2x},d{x}\n",
    "    = ...\n",
    "    = \\int_{0}^{1} \\pi / 2 * \\cos{\\pi x}\\,d{x}$\n",
    "    \n",
    "$\\xi = \\pi / 2 * \\cos{\\pi x}$\n",
    "\n",
    "$D\\{\\xi\\} = \\int_{0}^{1} (\\pi / 2 * \\cos{\\pi x})^2\\,d{x} - 0 = \\pi^2 / 8$"
   ]
  },
  {
   "cell_type": "code",
   "execution_count": 121,
   "metadata": {},
   "outputs": [
    {
     "name": "stdout",
     "output_type": "stream",
     "text": [
      "disp = 1.2337005501361697\n"
     ]
    }
   ],
   "source": [
    "print('disp =', np.pi**2 / 8)"
   ]
  },
  {
   "cell_type": "markdown",
   "metadata": {},
   "source": [
    "# 4\n",
    "\n",
    "Смоделировать значение СВ с $p_xi(x) = x * e^{- x^2/2}, x >= 0$ \n",
    "\n",
    "если БСВ $\\alpha = 0.54$\n",
    "\n",
    "## Решение\n",
    "\n",
    "Воспользуемся методом обратной функции. \n",
    "\n",
    "1. Надём функцию распределения\n",
    "\n",
    "$F(x) = \\int_{0}^{x} t e^{- t^2/2}\\,d t  \n",
    "    = \\int_{0}^{x^2 / 2} e^{- t^2/2}\\,d{t^2/2}  \n",
    "$\n",
    "\n",
    "$F(x) = 1 - e^{- x^2/2}, x >= 0$\n",
    "\n",
    "2. Обратная функция\n",
    "\n",
    "$F^{-1}(y) = \\sqrt{ - 2 * ln(1-y)}, y \\in [0,1]$ "
   ]
  },
  {
   "cell_type": "code",
   "execution_count": 119,
   "metadata": {},
   "outputs": [
    {
     "name": "stdout",
     "output_type": "stream",
     "text": [
      "xi= 1.2462173080959809\n"
     ]
    }
   ],
   "source": [
    "alpha = 0.54\n",
    "\n",
    "xi = np.sqrt( -2 * np.log(1 - alpha))\n",
    "\n",
    "print('xi=', xi)"
   ]
  },
  {
   "cell_type": "code",
   "execution_count": null,
   "metadata": {},
   "outputs": [],
   "source": []
  }
 ],
 "metadata": {
  "kernelspec": {
   "display_name": "Python 3",
   "language": "python",
   "name": "python3"
  },
  "language_info": {
   "codemirror_mode": {
    "name": "ipython",
    "version": 3
   },
   "file_extension": ".py",
   "mimetype": "text/x-python",
   "name": "python",
   "nbconvert_exporter": "python",
   "pygments_lexer": "ipython3",
   "version": "3.9.0"
  }
 },
 "nbformat": 4,
 "nbformat_minor": 4
}
