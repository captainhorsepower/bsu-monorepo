{
 "cells": [
  {
   "cell_type": "markdown",
   "metadata": {},
   "source": [
    "# Лабораторная  №2, Вариант 13\n",
    "\n",
    "Воробей Артём, 4группа, 4 курс. \n",
    "\n",
    "![task-1](task1.png)\n",
    "![task-2](task2.png)\n",
    "\n",
    "\n",
    "## Условия депонирования вклада из задания 1:\n",
    "![wtf](pre-task.PNG)"
   ]
  },
  {
   "cell_type": "markdown",
   "metadata": {},
   "source": [
    "# Моделирование 1000 реализаций $K_1$\n",
    "\n",
    "Для того, смоделировать курс обмена рублей в валюту в j-й день $К_{1,j} = f(j) + \\xi_j$ как курс марковскую зависимость с трендом, необходимо смоделировать значение тренда $f_j$ и маржи $xi_j$\n",
    "\n",
    "$f(j) = 1830 + j$ -- детерменированная величина\n",
    "\n",
    "$\\xi(j)$ -- получается моделированием однородной цепи Маркова, по матрице одношаговых переходов $P=(p_{i,j})$ и начальному состоянию = 2.\n",
    "\n",
    "---\n",
    "Код ниже получает 1000 реализций $K_1$ в список `K_1_samples`"
   ]
  },
  {
   "cell_type": "code",
   "execution_count": 1,
   "metadata": {},
   "outputs": [],
   "source": [
    "import numpy as np\n",
    "\n",
    "np.random.seed(1234)           "
   ]
  },
  {
   "cell_type": "code",
   "execution_count": 2,
   "metadata": {},
   "outputs": [],
   "source": [
    "class Randomizer:\n",
    "        \n",
    "    def next_bsv(self):\n",
    "        return np.random.uniform(0, 1)\n",
    "\n",
    "    \n",
    "class MarginRandomizer:\n",
    "\n",
    "    def __init__(self, init_state):\n",
    "        self.marg_vals = (-1, 0, 2)\n",
    "    \n",
    "        self.P = [\n",
    "            [0.2, 0.7, 0.1],\n",
    "            [0.2, 0.5, 0.3],\n",
    "            [0.2, 0.6, 0.2]]\n",
    "\n",
    "        self.Q = [\n",
    "            [0.2, 0.9, 1.0],\n",
    "            [0.2, 0.7, 1.0],\n",
    "            [0.2, 0.8, 1.0]]\n",
    "\n",
    "        self.state = init_state\n",
    "        \n",
    "        self.rnd = Randomizer()\n",
    "        \n",
    "        \n",
    "    def next_marg(self):\n",
    "        \"\"\"v -- current state 1..3\"\"\"\n",
    "        \n",
    "        a = self.rnd.next_bsv()\n",
    "        \n",
    "        q = self.Q[self.state - 1]\n",
    "        # ищу следующее состояние следующее состояние и значение \n",
    "        for j, q_j in enumerate(q):\n",
    "            if q_j >= a:\n",
    "                self.state = j + 1\n",
    "                return self.marg_vals[j]\n",
    "    "
   ]
  },
  {
   "cell_type": "code",
   "execution_count": 3,
   "metadata": {},
   "outputs": [],
   "source": [
    "# тренд в j-й день\n",
    "def f(j):\n",
    "    return 1830 + j\n",
    "\n",
    "# маржа в j-й день\n",
    "def margin(j):\n",
    "    # начальное состояние -- второе\n",
    "    margin_rnd = MarginRandomizer(init_state=2)  \n",
    "    \n",
    "    # генерирую и игнорирую j-1 значение.\n",
    "    # j-е значение является искомой маржой.\n",
    "    for _ in range(j):\n",
    "        m = margin_rnd.next_marg()\n",
    "    return m\n",
    "    \n",
    "\n",
    "# реализация курса обмена рублей в валюту в j-й день\n",
    "# как марковской зависимости с трендом.\n",
    "def K_1(j):\n",
    "    return f(j) + margin(j)"
   ]
  },
  {
   "cell_type": "markdown",
   "metadata": {},
   "source": [
    "Согласно условию:\n",
    "* срок вклада `n` 3 месяца\n",
    "* курс конверсии рублей в валюту на сегодняшний день `K_0` = 1820\n",
    "* вклад в рублях под 50% годовых `r_coef`\n",
    "* вклад в валюте под 10% годовых `v_coef`"
   ]
  },
  {
   "cell_type": "code",
   "execution_count": 4,
   "metadata": {},
   "outputs": [
    {
     "name": "stdout",
     "output_type": "stream",
     "text": [
      "длитенльность вклада в днях: 91\n"
     ]
    }
   ],
   "source": [
    "n = 3 / 12\n",
    "K_0 = 1820     # курс валюта -> рубль на сегодняшний день\n",
    "r_coef = 0.50  # вклад в рублях под 50% годовых\n",
    "v_coef = 0.10  # вклад в рублях под 10% годовых\n",
    "\n",
    "last_day = int(n * 365) # срок вклада в днях\n",
    "print('длитенльность вклада в днях:', last_day)\n",
    "\n",
    "# 1000 реализаций курса\n",
    "K_1_samples = [K_1(last_day) for _ in range(1000)]"
   ]
  },
  {
   "cell_type": "markdown",
   "metadata": {},
   "source": [
    "В результате были получены реализации $K_1$ со следующим распределением"
   ]
  },
  {
   "cell_type": "code",
   "execution_count": 138,
   "metadata": {},
   "outputs": [
    {
     "data": {
      "image/png": "[encoded data removed]",
      "text/plain": [
       "<Figure size 432x288 with 1 Axes>"
      ]
     },
     "metadata": {
      "needs_background": "light"
     },
     "output_type": "display_data"
    }
   ],
   "source": [
    "import matplotlib.pyplot as plt\n",
    "\n",
    "\n",
    "plt.hist(K_1_samples)\n",
    "plt.show()"
   ]
  },
  {
   "cell_type": "markdown",
   "metadata": {},
   "source": [
    "# Оценка вероятности принятия альтернативных  решений\n",
    "\n",
    "\n",
    "Пусть мы имеем $V$ единиц валюты на руках. \n",
    "\n",
    "$K_0$ -- курс обмена валюты в рубли на сегодняшний день.\n",
    "\n",
    "$K_1$ -- курс обмена рублей в валюту на конец вклада.\n",
    "\n",
    "$n$ -- срок вклада в годах.\n",
    "\n",
    "$c_v, c_r$ -- доля прироста вклада за год.\n",
    "\n",
    "Тогда, на конец вклада будем полчум единиц валюты:\n",
    "1. при прямом валютном вкладе: $V * (1 + n * c_v)$ \n",
    "2. при вкладе с двойной конверсией:  $V * \\frac{K_0 * (1 + n * c_r)}{K_1}$\n",
    "\n",
    "При этом:\n",
    "\n",
    "$P_1 = P\\{\\frac{K_0 * (1 + n * c_r)}{K_1} < 1\\}$, вероятность того, что двойная конверсия убыточна.\n",
    "\n",
    "$P_2 = P\\{\\frac{K_0 * (1 + n * c_r)}{K_1 * (1 + n * c_v)} > 1\\}$, вероятность того, что двойная конверсия прибыльнее прямого вклада.\n",
    "\n",
    "$P_3 = 1 - P_1 - P_2$, вероятность того, что прямой вклад всё равно выгоднее."
   ]
  },
  {
   "cell_type": "code",
   "execution_count": 7,
   "metadata": {},
   "outputs": [
    {
     "name": "stdout",
     "output_type": "stream",
     "text": [
      "P_1 = 0.0\n",
      "P_2 = 1.0\n",
      "P_3 = 0.0\n"
     ]
    }
   ],
   "source": [
    "from functools import reduce\n",
    "\n",
    "def get_prob(K_1):\n",
    "    # множитель валюты при двойной конверсии \n",
    "    r = (K_0 * (1 + n * r_coef)) / K_1\n",
    "    # множитель валюты при прямом вкладе\n",
    "    v = (1 + n * v_coef)\n",
    "    \n",
    "    if r < 1:\n",
    "        return (1, 0 , 0)\n",
    "    elif r  > v:\n",
    "        return (0, 1, 0)\n",
    "    else:\n",
    "        return (0, 0 , 1)\n",
    "\n",
    "def aggr(agg, prob):\n",
    "    return (agg[0] + prob[0], agg[1] + prob[1], agg[2] + prob[2])\n",
    "    \n",
    "\n",
    "ps = tuple(reduce(aggr, map(get_prob, K_1_samples)))\n",
    "ps = [p / len(K_1_samples) for p in ps]\n",
    "\n",
    "for i, p in enumerate(ps):\n",
    "    print(f'P_{i+1} = {p}')"
   ]
  },
  {
   "cell_type": "markdown",
   "metadata": {},
   "source": [
    "# Вывод\n",
    "\n",
    "Вклад с двойной конверсией принесёт больше прибыли, чем прямой вклад в валюте, во всех случаях."
   ]
  }
 ],
 "metadata": {
  "kernelspec": {
   "display_name": "Python 3",
   "language": "python",
   "name": "python3"
  },
  "language_info": {
   "codemirror_mode": {
    "name": "ipython",
    "version": 3
   },
   "file_extension": ".py",
   "mimetype": "text/x-python",
   "name": "python",
   "nbconvert_exporter": "python",
   "pygments_lexer": "ipython3",
   "version": "3.9.0"
  }
 },
 "nbformat": 4,
 "nbformat_minor": 4
}
