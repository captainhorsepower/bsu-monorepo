{
 "cells": [
  {
   "cell_type": "markdown",
   "metadata": {},
   "source": [
    "# Базовая случайная величина\n",
    "\n",
    "БСВ – это непрерывная СВ равномерно распределённая на полуинтервале [0, 1) = R(0,1)\n",
    "\n",
    "Программы для моделирвоания БСВ называются датчиками БСВ.\n",
    "В основе программных БСВ лежат рекурентные формулы со стартовыми значениями.\n",
    "\n",
    "$\\alpha_t=\\phi(\\alpha_{t-1},...,\\alpha_{t-p})$\n",
    "\n",
    "Алгоримт деретменированный, но при правильной рекурентной фунции (преобразования) $\\phi$ получаемые псевдослучайные величины по своим функциональным и числовым х-ками близки к БСВ.\n",
    "\n",
    "Минус такого подхода: с некторого момента $t_0$ последовательность псевдо-БСВ образует цикл, повторяется бесконечное число раз. \n",
    "Длина последовательности $T$ называется периодом датчика БСВ.\n",
    "\n",
    "Период $T$ и коэфф использования $k$ основными показателями качества датчика. Чем они больше, тем лучше."
   ]
  },
  {
   "cell_type": "code",
   "execution_count": 332,
   "metadata": {},
   "outputs": [
    {
     "name": "stdout",
     "output_type": "stream",
     "text": [
      "hello\n"
     ]
    }
   ],
   "source": [
    "print('hello')"
   ]
  },
  {
   "cell_type": "markdown",
   "metadata": {},
   "source": [
    "# Мультипликативный конгруэнтный метод\n",
    "\n",
    "Псевдослучайная БСВ определяется как:\n",
    "\n",
    "$\\alpha_t = \\alpha_t^{*} / M, \\alpha_t^* = {\\beta \\alpha_{t-1}^*} mod M, t >= 1$\n",
    "\n",
    "Где $\\beta, M, \\alpha_0^*$ -- параметры датчика (натуральные числа). $\\alpha_0^*$ нечётное.\n",
    "\n",
    "Показатели датчика $T <= M-1; k = 1$. \n",
    "\n",
    "Значения $\\beta, \\alpha_0^*$ определяются для максимизации  $T$"
   ]
  },
  {
   "cell_type": "code",
   "execution_count": 359,
   "metadata": {},
   "outputs": [],
   "source": [
    "def mod(a, b):\n",
    "    return a - b * (a//b)\n",
    "\n",
    "def mult_congruent_bsv(alpha0=65539, beta=65539, M=2**31):\n",
    "    print(f'alpha={alpha0} beta={beta}, M={M}')\n",
    "    alpha = alpha0\n",
    "    while(True):\n",
    "        alpha = mod(beta * alpha, M)\n",
    "        yield alpha / M"
   ]
  },
  {
   "cell_type": "code",
   "execution_count": 334,
   "metadata": {},
   "outputs": [
    {
     "name": "stdout",
     "output_type": "stream",
     "text": [
      "[0.000488299410790205, 0.007538077887147665, 0.11346742464229465, 0.6762178777717054, 0.40567005751654506, 0.26660015201196074, 0.3733642320148647, 0.6520443423651159, 0.8545976909808815, 0.024046105798333883]\n"
     ]
    }
   ],
   "source": [
    "import itertools\n",
    "\n",
    "first_ten = itertools.islice(mult_congruent_bsv(), 10)\n",
    "print(list(first_ten))"
   ]
  },
  {
   "cell_type": "markdown",
   "metadata": {},
   "source": [
    "# Метод Маклорена-Марсали\n",
    "\n",
    "Комбинирует два простейших датчика (например, мультипликативных конгруэнтных). \n",
    "Метод позволяет ослабить зависимость между членами случайно последовательности и сколь угодно увеличить $T$, \n",
    "при условии, что $T_1$ и $T_2$ взаимнопростые.\n",
    "\n",
    "Пусть:\n",
    "- ${\\beta_t}, {c_t}$ -- исходные последовательности\n",
    "- ${\\alpha_t} -- результирующая БСВ\n",
    "- $V = {V(0), V(1),..., V(K-1)} -- вспомогательная таблица $K$ чисел\n",
    "\n",
    "Коэф использования = 1/2, а мне надо 1. Так что пока влом делать."
   ]
  },
  {
   "cell_type": "code",
   "execution_count": 335,
   "metadata": {},
   "outputs": [],
   "source": [
    "def macloren_marsali(bsv1, bsv2, K):\n",
    "    pass"
   ]
  },
  {
   "cell_type": "markdown",
   "metadata": {},
   "source": [
    "# Тесты проверки точности моделирования БСВ\n",
    "\n",
    "Необходимо проверить гипотезу $H_0$: выборочные значения смоделированной величины являются реализациями\n",
    "независимых СВ с распределнием $R(0,1)$\n",
    "\n",
    "Три популярных специальных теста для этого:\n",
    "1. \"совпадение моментов\"\n",
    "2. \"ковариация\"\n",
    "3. \"равномерность двухмерного распределения\""
   ]
  },
  {
   "cell_type": "code",
   "execution_count": 371,
   "metadata": {},
   "outputs": [
    {
     "name": "stdout",
     "output_type": "stream",
     "text": [
      "alpha=65539 beta=65539, M=1000000007\n"
     ]
    }
   ],
   "source": [
    "import numpy as np\n",
    "from scipy.stats import norm\n",
    "import matplotlib.pyplot as plt\n",
    "\n",
    "def read_generator(generator, skip=0, n=100):\n",
    "    return np.array(list(itertools.islice(generator, skip, n + skip)))\n",
    "\n",
    "def sovpadenie_momentov(bsv_generator, n, epsilon=0.95):\n",
    "    exp_value = 1/2\n",
    "    disp = 1/12\n",
    "    \n",
    "    c1 = lambda n: np.sqrt(12 * n)\n",
    "    c2 = lambda n: (n-1) / n / np.sqrt(0.0056 / n + 0.0028 / n**2 - 0.0083 / n**3)\n",
    "    delta = lambda e: norm.cdf(1 - e / 2)\n",
    "    \n",
    "    bsv = read_generator(bsv_generator, skip=100, n=n)\n",
    "    \n",
    "    m = np.mean(bsv)\n",
    "    ss = np.mean((bsv[1:] - m)**2)\n",
    "    \n",
    "    xi1, xi2 = m - exp_value, ss - disp\n",
    "    #print(np.abs(xi1), np.abs(xi2))\n",
    "    \n",
    "    D = delta(epsilon)\n",
    "    #print(D)\n",
    "    \n",
    "    #print(c1(n) * np.abs(xi1), c2(n) * np.abs(xi2))\n",
    "    return bsv, c1(n) * np.abs(xi1) < D and c2(n) * np.abs(xi2) < D\n",
    "\n",
    "\n",
    "bsv, isOk = sovpadenie_momentov(mult_congruent_bsv(M=10**9 + 7), 1000)"
   ]
  },
  {
   "cell_type": "markdown",
   "metadata": {},
   "source": [
    "# Короче я не шарю))\n",
    "\n",
    "Но получилась какая-то лажа. БСВ становится лучше, если руками подбирать skip и n. Отстой какой-то.\n",
    "\n",
    "Вот такие $a=b=65539, M=10^9 + 7$ дают мне норм 1000  БСВ\n",
    "\n",
    "\n",
    "Построим теперь экспоненциальное распределение"
   ]
  },
  {
   "cell_type": "code",
   "execution_count": 337,
   "metadata": {},
   "outputs": [],
   "source": [
    "def exp_distr(bsv, llambda):\n",
    "    for a in bsv:\n",
    "        x = -1 / llambda * np.log(a)\n",
    "        yield x\n",
    "        \n",
    "        \n",
    "def gamma_from_exp(exp, b, nu):\n",
    "    exp = list(exp)\n",
    "    while True:\n",
    "        np.random.shuffle(exp)\n",
    "        yield b * sum(exp[:nu])\n",
    "\n",
    "\n",
    "def erlang_from_exp(exp, llambda, nu):\n",
    "    return gamma_from_exp(exp, 1 / llambda, nu)"
   ]
  },
  {
   "cell_type": "code",
   "execution_count": 436,
   "metadata": {},
   "outputs": [],
   "source": [
    "from scipy.stats import *\n",
    "import matplotlib.pyplot as plt\n",
    "\n",
    "\n",
    "def reflective_plotting(generatedVals, distribution_name, distribution=None):\n",
    "    if not distribution:\n",
    "        distribution = getattr(scipy.stats, distribution_name)\n",
    "    \n",
    "    rv = distribution\n",
    "    x = np.linspace(rv.ppf(0.001),\n",
    "                    rv.ppf(0.999), 100)\n",
    "    \n",
    "    fig, ax = plt.subplots(1, 1)\n",
    "    ax.plot(x, rv.pdf(x), 'r-', lw=2, label=distribution_name)\n",
    "\n",
    "    ax.hist(generatedVals, density=True, \n",
    "            histtype='stepfilled', bins=30,\n",
    "            alpha=0.2, label=f'my {len(generatedVals)} values')\n",
    "    ax.legend(loc='best', frameon=False)\n",
    "    plt.show()\n",
    "\n",
    "\n",
    "def plot_my_uniform(bsv):\n",
    "    reflective_plotting(bsv, 'uniform')\n",
    "\n",
    "\n",
    "def plot_my_exp(expVals, llambda):\n",
    "    reflective_plotting(expVals, 'exponential', expon(scale=1 / llambda))\n",
    "    \n",
    "    \n",
    "def plot_erlang(erlang, llambda, nu):\n",
    "    reflective_plotting(erlang, f'erlang({llambda}, {nu})', gamma(nu))"
   ]
  },
  {
   "cell_type": "code",
   "execution_count": 861,
   "metadata": {},
   "outputs": [
    {
     "name": "stdout",
     "output_type": "stream",
     "text": [
      "alpha=65539 beta=65539, M=1048576\n"
     ]
    }
   ],
   "source": [
    "bsv_gen = mult_congruent_bsv(alpha0=65539,\n",
    "                             beta=65539,\n",
    "                             M=2**20)\n",
    "\n",
    "ns = [50, 100, 500, 1000, 2000, 10000]\n",
    "cache = { 'bsv': {}, 'exp': {} }\n",
    "\n",
    "\n",
    "for n in ns:\n",
    "    bsv = read_generator(bsv_gen, n=n)\n",
    "    cache['bsv'][n] = bsv\n",
    "    \n",
    "    llambda = 1\n",
    "    exp = read_generator(exp_distr(bsv, llambda), n=n)\n",
    "    cache['exp'][n] = exp\n",
    "    \n",
    "for nu in [1, 2, 3]:\n",
    "    if 'erlang' not in cache:\n",
    "        cache['erlang'] = {}\n",
    "    if nu not in cache['erlang']:\n",
    "        cache['erlang'][nu] = {}\n",
    "    for n in ns:\n",
    "        exp = cache['exp'][n]\n",
    "        erlang_gen = erlang_from_exp(exp, 1.0, nu)\n",
    "        erlang = read_generator(erlang_gen, n=n)\n",
    "        cache['erlang'][nu][n] = erlang"
   ]
  },
  {
   "cell_type": "code",
   "execution_count": 862,
   "metadata": {},
   "outputs": [
    {
     "data": {
      "text/html": [
       "<table>\n",
       "<tbody>\n",
       "<tr><td>n    </td><td>Среднее значение</td><td>Дисперсия</td></tr>\n",
       "<tr><td>50   </td><td>0.4794          </td><td>0.0866   </td></tr>\n",
       "<tr><td>100  </td><td>0.4765          </td><td>0.0789   </td></tr>\n",
       "<tr><td>500  </td><td>0.5035          </td><td>0.0816   </td></tr>\n",
       "<tr><td>1000 </td><td>0.4955          </td><td>0.0824   </td></tr>\n",
       "<tr><td>2000 </td><td>0.4990          </td><td>0.0822   </td></tr>\n",
       "<tr><td>10000</td><td>0.4993          </td><td>0.0840   </td></tr>\n",
       "<tr><td>идеал</td><td>0.5000          </td><td>0.0833   </td></tr>\n",
       "</tbody>\n",
       "</table>"
      ],
      "text/plain": [
       "<IPython.core.display.HTML object>"
      ]
     },
     "metadata": {},
     "output_type": "display_data"
    },
    {
     "data": {
      "image/png": "[encoded data removed]",
      "text/plain": [
       "<Figure size 432x288 with 1 Axes>"
      ]
     },
     "metadata": {
      "needs_background": "light"
     },
     "output_type": "display_data"
    },
    {
     "data": {
      "text/html": [
       "<table>\n",
       "<tbody>\n",
       "<tr><td>n    </td><td>Среднее значение</td><td>Дисперсия</td></tr>\n",
       "<tr><td>50   </td><td>1.0989          </td><td>1.1757   </td></tr>\n",
       "<tr><td>100  </td><td>1.1331          </td><td>1.6691   </td></tr>\n",
       "<tr><td>500  </td><td>0.9752          </td><td>0.9187   </td></tr>\n",
       "<tr><td>1000 </td><td>1.0232          </td><td>1.0839   </td></tr>\n",
       "<tr><td>2000 </td><td>0.9988          </td><td>0.9798   </td></tr>\n",
       "<tr><td>10000</td><td>1.0024          </td><td>0.9906   </td></tr>\n",
       "<tr><td>идеал</td><td>1.0000          </td><td>1.0000   </td></tr>\n",
       "</tbody>\n",
       "</table>"
      ],
      "text/plain": [
       "<IPython.core.display.HTML object>"
      ]
     },
     "metadata": {},
     "output_type": "display_data"
    },
    {
     "data": {
      "image/png": "[encoded data removed]",
      "text/plain": [
       "<Figure size 432x288 with 1 Axes>"
      ]
     },
     "metadata": {
      "needs_background": "light"
     },
     "output_type": "display_data"
    },
    {
     "data": {
      "text/html": [
       "<table>\n",
       "<tbody>\n",
       "<tr><td>n    </td><td>Среднее значение</td><td>Дисперсия</td></tr>\n",
       "<tr><td>50   </td><td>1.2468          </td><td>1.3506   </td></tr>\n",
       "<tr><td>100  </td><td>1.1507          </td><td>1.7444   </td></tr>\n",
       "<tr><td>500  </td><td>0.9457          </td><td>0.8447   </td></tr>\n",
       "<tr><td>1000 </td><td>1.0154          </td><td>1.0765   </td></tr>\n",
       "<tr><td>2000 </td><td>0.9734          </td><td>0.9264   </td></tr>\n",
       "<tr><td>10000</td><td>1.0088          </td><td>1.0057   </td></tr>\n",
       "<tr><td>идеал</td><td>1.0000          </td><td>1.0000   </td></tr>\n",
       "</tbody>\n",
       "</table>"
      ],
      "text/plain": [
       "<IPython.core.display.HTML object>"
      ]
     },
     "metadata": {},
     "output_type": "display_data"
    },
    {
     "data": {
      "image/png": "[encoded data removed]",
      "text/plain": [
       "<Figure size 432x288 with 1 Axes>"
      ]
     },
     "metadata": {
      "needs_background": "light"
     },
     "output_type": "display_data"
    },
    {
     "data": {
      "text/html": [
       "<table>\n",
       "<tbody>\n",
       "<tr><td>n    </td><td>Среднее значение</td><td>Дисперсия</td></tr>\n",
       "<tr><td>50   </td><td>2.2371          </td><td>1.6289   </td></tr>\n",
       "<tr><td>100  </td><td>2.1862          </td><td>4.1103   </td></tr>\n",
       "<tr><td>500  </td><td>1.9952          </td><td>1.9115   </td></tr>\n",
       "<tr><td>1000 </td><td>2.0645          </td><td>2.2078   </td></tr>\n",
       "<tr><td>2000 </td><td>2.0286          </td><td>2.0628   </td></tr>\n",
       "<tr><td>10000</td><td>2.0168          </td><td>2.0172   </td></tr>\n",
       "<tr><td>идеал</td><td>2.0000          </td><td>2.0000   </td></tr>\n",
       "</tbody>\n",
       "</table>"
      ],
      "text/plain": [
       "<IPython.core.display.HTML object>"
      ]
     },
     "metadata": {},
     "output_type": "display_data"
    },
    {
     "data": {
      "image/png": "[encoded data removed]",
      "text/plain": [
       "<Figure size 432x288 with 1 Axes>"
      ]
     },
     "metadata": {
      "needs_background": "light"
     },
     "output_type": "display_data"
    },
    {
     "data": {
      "text/html": [
       "<table>\n",
       "<tbody>\n",
       "<tr><td>n    </td><td>Среднее значение</td><td>Дисперсия</td></tr>\n",
       "<tr><td>50   </td><td>3.5530          </td><td>2.9977   </td></tr>\n",
       "<tr><td>100  </td><td>3.4321          </td><td>5.0056   </td></tr>\n",
       "<tr><td>500  </td><td>2.9390          </td><td>2.8646   </td></tr>\n",
       "<tr><td>1000 </td><td>3.0082          </td><td>3.4170   </td></tr>\n",
       "<tr><td>2000 </td><td>2.9600          </td><td>2.8354   </td></tr>\n",
       "<tr><td>10000</td><td>2.9957          </td><td>2.9583   </td></tr>\n",
       "<tr><td>идеал</td><td>3.0000          </td><td>3.0000   </td></tr>\n",
       "</tbody>\n",
       "</table>"
      ],
      "text/plain": [
       "<IPython.core.display.HTML object>"
      ]
     },
     "metadata": {},
     "output_type": "display_data"
    },
    {
     "data": {
      "image/png": "[encoded data removed]",
      "text/plain": [
       "<Figure size 432x288 with 1 Axes>"
      ]
     },
     "metadata": {
      "needs_background": "light"
     },
     "output_type": "display_data"
    }
   ],
   "source": [
    "from IPython.display import HTML, display\n",
    "import tabulate\n",
    "\n",
    "def stats(values):\n",
    "    m = np.mean(values)\n",
    "    std = np.mean((values - m)**2)\n",
    "    return m, std\n",
    "\n",
    "\n",
    "def apply_formatting(frmt, row):\n",
    "    return list(map(lambda t: t[0].format(t[-1]),\n",
    "             zip(frmt, row)))\n",
    "\n",
    "def stats_tables(cache):\n",
    "    head = ['n', \"Среднее значение\", \"Дисперсия\"]\n",
    "    frmt = ['{:-d}'] + ['{:.4f}'] * 2\n",
    "    \n",
    "    def one_table(val_dict, m, std):\n",
    "        table = [head]\n",
    "        \n",
    "        for n, vals in val_dict.items():    \n",
    "            row = [n, *stats(vals)]\n",
    "            frmt_row = apply_formatting(frmt, row)\n",
    "            table.append(frmt_row)\n",
    "            \n",
    "        table.append(apply_formatting(\n",
    "            ['{:s}'] + frmt[1:],\n",
    "            ['идеал', m, std]\n",
    "        ))\n",
    "        \n",
    "        display(HTML(tabulate.tabulate(table, tablefmt='html')))\n",
    "      \n",
    "    one_table(cache['bsv'], 0.5, 1/12)\n",
    "    plot_my_uniform(cache['bsv'][ns[-1]])\n",
    "    \n",
    "    one_table(cache['exp'], 1/llambda, 1/llambda**2)\n",
    "    plot_my_exp(cache['exp'][ns[-1]], llambda)\n",
    "        \n",
    "    for nu in [1, 2, 3]:\n",
    "        b = 1 / llambda\n",
    "        m = nu * b\n",
    "        std = nu * b**2\n",
    "        \n",
    "        erlang_vals = cache['erlang'][nu]\n",
    "        one_table(erlang_vals, m, std)\n",
    "        plot_erlang(erlang_vals[ns[-1]], llambda, nu)\n",
    "\n",
    "stats_tables(cache)"
   ]
  },
  {
   "cell_type": "code",
   "execution_count": 441,
   "metadata": {
    "scrolled": true
   },
   "outputs": [
    {
     "name": "stdout",
     "output_type": "stream",
     "text": [
      "alpha=65539 beta=65539, M=1048576\n"
     ]
    },
    {
     "data": {
      "image/png": "[encoded data removed]",
      "text/plain": [
       "<Figure size 432x288 with 1 Axes>"
      ]
     },
     "metadata": {
      "needs_background": "light"
     },
     "output_type": "display_data"
    },
    {
     "data": {
      "image/png": "[encoded data removed]",
      "text/plain": [
       "<Figure size 432x288 with 1 Axes>"
      ]
     },
     "metadata": {
      "needs_background": "light"
     },
     "output_type": "display_data"
    },
    {
     "data": {
      "image/png": "[encoded data removed]",
      "text/plain": [
       "<Figure size 432x288 with 1 Axes>"
      ]
     },
     "metadata": {
      "needs_background": "light"
     },
     "output_type": "display_data"
    },
    {
     "data": {
      "image/png": "[encoded data removed]",
      "text/plain": [
       "<Figure size 432x288 with 1 Axes>"
      ]
     },
     "metadata": {
      "needs_background": "light"
     },
     "output_type": "display_data"
    },
    {
     "data": {
      "image/png": "[encoded data removed]",
      "text/plain": [
       "<Figure size 432x288 with 1 Axes>"
      ]
     },
     "metadata": {
      "needs_background": "light"
     },
     "output_type": "display_data"
    }
   ],
   "source": [
    "\n",
    "\n",
    "bsv_gen = mult_congruent_bsv(alpha0=65539,\n",
    "                             beta=65539,\n",
    "                             M=2**20)\n",
    "\n",
    "bsv = read_generator(bsv_gen, skip=100, n=5000)\n",
    "\n",
    "\n",
    "exp = read_generator(exp_distr(bsv, llambda), n=5000)\n",
    "\n",
    "plot_my_uniform(bsv)\n",
    "plot_my_exp(exp, llambda)\n",
    "\n",
    "for nu in range(1, 4):\n",
    "    erlang = read_generator(erlang_from_exp(expVals, llambda, nu), n=5000)\n",
    "    plot_erlang(erlang, llambda, nu)\n",
    "\n",
    "#bsv, isOk = sovpadenie_momentov(bsv_gen, 5000)\n",
    "#print('isOk:', isOk)\n",
    "\n",
    "\n",
    "\n"
   ]
  },
  {
   "cell_type": "markdown",
   "metadata": {},
   "source": [
    "# Резко перескочу к третьей лабе.\n",
    "\n",
    "\n",
    "у меня двойной интеграл. Из него можно вытянуть\n",
    "\n",
    "$p_\\eta(x,y)  = k_x * k_y * e^{-(x^2 + y^2) / 2}$ на интервале $(2, 4) \\times (3, + \\infty)$.\n",
    "\n",
    "Это представим как две независимые СВ, которые можно моделировать отдельно.\n",
    "\n",
    "1) $p_{\\eta_1}(x)  = k_x e^{-x^2 / 2}$ на $(2, 4)$\n",
    "\n",
    "2) $p_{\\eta_2}(y)  = k_y e^{-y^2 / 2}$ на $(3, \\times)$"
   ]
  },
  {
   "cell_type": "markdown",
   "metadata": {},
   "source": [
    "$p_{\\eta_1}$ на $(2, 4)$ выглядит как обрезанный кусочек нормально распределения.\n",
    "По идее, если домножить на подходящий коэф, то покатит.\n",
    "\n",
    "Как выбарть правильные распределения мне пока не ясно."
   ]
  },
  {
   "cell_type": "markdown",
   "metadata": {},
   "source": [
    "## Равномерное + Экспоненциальное\n",
    "\n",
    "\n",
    "$p_y(x) = 1 / 2$\n",
    "\n",
    "$p_x(x) = \\lambda * e^{-\\lambda x}$ \n",
    "\n",
    "пусть $\\lambda = ???$, а к случайной величине добавлю 3 чтобы сдвинуть вправо.\n",
    "\n",
    "\n",
    "Не вышло"
   ]
  },
  {
   "cell_type": "code",
   "execution_count": 769,
   "metadata": {},
   "outputs": [
    {
     "data": {
      "text/plain": [
       "0.004153597316020354"
      ]
     },
     "execution_count": 769,
     "metadata": {},
     "output_type": "execute_result"
    }
   ],
   "source": [
    "def gen_y(n):\n",
    "    return np.random.uniform(2, 4, n)\n",
    "    \n",
    "    \n",
    "def gen_x(n, llambda):\n",
    "    return expon.rvs(loc=3,scale=1/llambda, size=n)\n",
    "\n",
    "\n",
    "def gen_pairs(n, llambda):\n",
    "    return zip(gen_x(n, llambda), gen_y(n))\n",
    "\n",
    "\n",
    "def targetRv(n, llambda=1.0):\n",
    "    g = lambda x,y: np.exp(-0.5 * (x**2 + y**2)) * np.log(1 + (x / y)**2)\n",
    "    p = lambda x,y: 0.5 * llambda * np.exp(-llambda * x)\n",
    "    for x, y in gen_pairs(n, llambda):\n",
    "        yield g(x,y) / p(x,y)\n",
    "        \n",
    "    \n",
    "n = 10000\n",
    "llambda = 1.0\n",
    "targetRv = np.fromiter(targetRv(n, llambda), np.float64)\n",
    "ans = targetRv.mean()\n",
    "ans"
   ]
  },
  {
   "cell_type": "markdown",
   "metadata": {},
   "source": [
    "Ок, так не работает. Попробую равномерное и halfnormal (нормальное > 0)\n",
    "\n",
    "$p_y(x) = 1 / 2$\n",
    "\n",
    "$p_x(x) = \\sqrt{2 / \\pi} * e^{-(x)^2 / 2}$ "
   ]
  },
  {
   "cell_type": "code",
   "execution_count": 941,
   "metadata": {
    "scrolled": false
   },
   "outputs": [
    {
     "data": {
      "image/png": "[encoded data removed]",
      "text/plain": [
       "<Figure size 432x288 with 1 Axes>"
      ]
     },
     "metadata": {
      "needs_background": "light"
     },
     "output_type": "display_data"
    }
   ],
   "source": [
    "def plotHists(vals):\n",
    "    fig, ax = plt.subplots(1, 1)\n",
    "\n",
    "    ax.hist(vals, density=True, \n",
    "            histtype='stepfilled', bins=20,\n",
    "            alpha=0.2, label=f'my {len(vals)} values')\n",
    "    ax.legend(loc='best', frameon=False)\n",
    "    plt.show()\n",
    "\n",
    "plotHists(halfnorm.rvs(loc=3, scale=1/10,size=10000))"
   ]
  },
  {
   "cell_type": "code",
   "execution_count": 880,
   "metadata": {},
   "outputs": [],
   "source": [
    "def gen_y(n):\n",
    "    return uniform.rvs(2, 2, n)\n",
    "    \n",
    "    \n",
    "def gen_x(n):\n",
    "    return halfnorm.rvs(size=n)\n",
    "\n",
    "\n",
    "def gen_pairs(n):\n",
    "    return zip(gen_x(n), gen_y(n))\n",
    "\n",
    "\n",
    "def gen_xi(n):\n",
    "    g = lambda x,y: np.exp(-0.5 * (x**2 + y**2)) * np.log(1 + (x / y)**2)\n",
    "    p = lambda x,y: 0.5 * np.sqrt(2 / np.pi) * np.exp(-0.5 * (x**2))\n",
    "    for x, y in gen_pairs(n):\n",
    "        yield g(x+3,y) / p(x,y)\n",
    "  "
   ]
  },
  {
   "cell_type": "code",
   "execution_count": 936,
   "metadata": {},
   "outputs": [],
   "source": [
    "def calc_stats(values):\n",
    "    mean = np.mean(values)\n",
    "    std_dev = np.mean((values - mean)**2)\n",
    "    exp_err = 0.6745 * np.sqrt(std_dev / len(values))\n",
    "    exp_err = 3 * np.sqrt(std_dev / len(values))\n",
    "    return mean, std_dev, exp_err\n",
    "\n",
    "\n",
    "def do_calc(n):\n",
    "    values = np.fromiter(gen_xi(n), np.float64)\n",
    "    return calc_stats(values)\n",
    "\n",
    "\n",
    "def experimetns_as_table(ns=[10, 20, 50, 100, 1000, 10000], attempts=5):\n",
    "    head = ['эксперимент', 'n', 'Ответ', 'Дисперсия', 'Вероятная ошибка']\n",
    "    frmt = ['{:d}'] * 2 + ['{:.9f}'] * 3\n",
    "\n",
    "    table = []\n",
    "    for n in ns:\n",
    "        table.append(head)\n",
    "        anss = []\n",
    "        for attempt in range(attempts): # 10 tries per n\n",
    "            ans, std, err = do_calc(n)\n",
    "            row = [attempt + 1, n, ans, std, err]\n",
    "            frmt_row = apply_formatting(frmt, row)\n",
    "            table.append(frmt_row)\n",
    "            anss.append(ans)\n",
    "        \n",
    "        summary = ['', 'попыток', 'Среднее значение']\n",
    "        summary_row = apply_formatting(\n",
    "            [''] + frmt[1:],\n",
    "            ['', attempts, np.array(anss).mean()]\n",
    "        )\n",
    "        table.append(summary)\n",
    "        table.append(summary_row)\n",
    "\n",
    "    display(HTML(tabulate.tabulate(table, tablefmt='html')))"
   ]
  },
  {
   "cell_type": "code",
   "execution_count": 937,
   "metadata": {
    "scrolled": false
   },
   "outputs": [
    {
     "data": {
      "text/html": [
       "<table>\n",
       "<tbody>\n",
       "<tr><td>эксперимент</td><td>n      </td><td>Ответ           </td><td>Дисперсия  </td><td>Вероятная ошибка</td></tr>\n",
       "<tr><td>1          </td><td>10     </td><td>0.000257927     </td><td>0.000000154</td><td>0.000372729     </td></tr>\n",
       "<tr><td>2          </td><td>10     </td><td>0.000107584     </td><td>0.000000018</td><td>0.000126090     </td></tr>\n",
       "<tr><td>3          </td><td>10     </td><td>0.000128975     </td><td>0.000000095</td><td>0.000292433     </td></tr>\n",
       "<tr><td>4          </td><td>10     </td><td>0.000223525     </td><td>0.000000138</td><td>0.000353043     </td></tr>\n",
       "<tr><td>5          </td><td>10     </td><td>0.000277906     </td><td>0.000000201</td><td>0.000425016     </td></tr>\n",
       "<tr><td>           </td><td>попыток</td><td>Среднее значение</td><td>           </td><td>                </td></tr>\n",
       "<tr><td>           </td><td>5      </td><td>0.000199183     </td><td>           </td><td>                </td></tr>\n",
       "<tr><td>эксперимент</td><td>n      </td><td>Ответ           </td><td>Дисперсия  </td><td>Вероятная ошибка</td></tr>\n",
       "<tr><td>1          </td><td>20     </td><td>0.000049309     </td><td>0.000000006</td><td>0.000052292     </td></tr>\n",
       "<tr><td>2          </td><td>20     </td><td>0.000156848     </td><td>0.000000099</td><td>0.000210545     </td></tr>\n",
       "<tr><td>3          </td><td>20     </td><td>0.000439992     </td><td>0.000000743</td><td>0.000578045     </td></tr>\n",
       "<tr><td>4          </td><td>20     </td><td>0.000361466     </td><td>0.000000619</td><td>0.000527963     </td></tr>\n",
       "<tr><td>5          </td><td>20     </td><td>0.000084207     </td><td>0.000000026</td><td>0.000107718     </td></tr>\n",
       "<tr><td>           </td><td>попыток</td><td>Среднее значение</td><td>           </td><td>                </td></tr>\n",
       "<tr><td>           </td><td>5      </td><td>0.000218364     </td><td>           </td><td>                </td></tr>\n",
       "<tr><td>эксперимент</td><td>n      </td><td>Ответ           </td><td>Дисперсия  </td><td>Вероятная ошибка</td></tr>\n",
       "<tr><td>1          </td><td>50     </td><td>0.000276492     </td><td>0.000000363</td><td>0.000255781     </td></tr>\n",
       "<tr><td>2          </td><td>50     </td><td>0.000169879     </td><td>0.000000174</td><td>0.000176905     </td></tr>\n",
       "<tr><td>3          </td><td>50     </td><td>0.000128255     </td><td>0.000000058</td><td>0.000102209     </td></tr>\n",
       "<tr><td>4          </td><td>50     </td><td>0.000276787     </td><td>0.000000272</td><td>0.000221302     </td></tr>\n",
       "<tr><td>5          </td><td>50     </td><td>0.000136940     </td><td>0.000000039</td><td>0.000083617     </td></tr>\n",
       "<tr><td>           </td><td>попыток</td><td>Среднее значение</td><td>           </td><td>                </td></tr>\n",
       "<tr><td>           </td><td>5      </td><td>0.000197670     </td><td>           </td><td>                </td></tr>\n",
       "<tr><td>эксперимент</td><td>n      </td><td>Ответ           </td><td>Дисперсия  </td><td>Вероятная ошибка</td></tr>\n",
       "<tr><td>1          </td><td>100    </td><td>0.000188247     </td><td>0.000000102</td><td>0.000095681     </td></tr>\n",
       "<tr><td>2          </td><td>100    </td><td>0.000176459     </td><td>0.000000171</td><td>0.000123878     </td></tr>\n",
       "<tr><td>3          </td><td>100    </td><td>0.000252988     </td><td>0.000000341</td><td>0.000175294     </td></tr>\n",
       "<tr><td>4          </td><td>100    </td><td>0.000206281     </td><td>0.000000244</td><td>0.000148108     </td></tr>\n",
       "<tr><td>5          </td><td>100    </td><td>0.000234526     </td><td>0.000000249</td><td>0.000149626     </td></tr>\n",
       "<tr><td>           </td><td>попыток</td><td>Среднее значение</td><td>           </td><td>                </td></tr>\n",
       "<tr><td>           </td><td>5      </td><td>0.000211700     </td><td>           </td><td>                </td></tr>\n",
       "<tr><td>эксперимент</td><td>n      </td><td>Ответ           </td><td>Дисперсия  </td><td>Вероятная ошибка</td></tr>\n",
       "<tr><td>1          </td><td>1000   </td><td>0.000198198     </td><td>0.000000206</td><td>0.000043034     </td></tr>\n",
       "<tr><td>2          </td><td>1000   </td><td>0.000226468     </td><td>0.000000257</td><td>0.000048120     </td></tr>\n",
       "<tr><td>3          </td><td>1000   </td><td>0.000219849     </td><td>0.000000244</td><td>0.000046858     </td></tr>\n",
       "<tr><td>4          </td><td>1000   </td><td>0.000184616     </td><td>0.000000196</td><td>0.000042029     </td></tr>\n",
       "<tr><td>5          </td><td>1000   </td><td>0.000226706     </td><td>0.000000260</td><td>0.000048360     </td></tr>\n",
       "<tr><td>           </td><td>попыток</td><td>Среднее значение</td><td>           </td><td>                </td></tr>\n",
       "<tr><td>           </td><td>5      </td><td>0.000211167     </td><td>           </td><td>                </td></tr>\n",
       "<tr><td>эксперимент</td><td>n      </td><td>Ответ           </td><td>Дисперсия  </td><td>Вероятная ошибка</td></tr>\n",
       "<tr><td>1          </td><td>10000  </td><td>0.000207420     </td><td>0.000000217</td><td>0.000013982     </td></tr>\n",
       "<tr><td>2          </td><td>10000  </td><td>0.000209318     </td><td>0.000000227</td><td>0.000014302     </td></tr>\n",
       "<tr><td>3          </td><td>10000  </td><td>0.000209725     </td><td>0.000000217</td><td>0.000013969     </td></tr>\n",
       "<tr><td>4          </td><td>10000  </td><td>0.000215986     </td><td>0.000000234</td><td>0.000014512     </td></tr>\n",
       "<tr><td>5          </td><td>10000  </td><td>0.000210745     </td><td>0.000000223</td><td>0.000014176     </td></tr>\n",
       "<tr><td>           </td><td>попыток</td><td>Среднее значение</td><td>           </td><td>                </td></tr>\n",
       "<tr><td>           </td><td>5      </td><td>0.000210639     </td><td>           </td><td>                </td></tr>\n",
       "</tbody>\n",
       "</table>"
      ],
      "text/plain": [
       "<IPython.core.display.HTML object>"
      ]
     },
     "metadata": {},
     "output_type": "display_data"
    }
   ],
   "source": [
    "experimetns_as_table()"
   ]
  },
  {
   "cell_type": "code",
   "execution_count": 885,
   "metadata": {},
   "outputs": [
    {
     "data": {
      "text/plain": [
       "(0.00021010552373773128, 0.20031021154139522, 0.0003018794143665822)"
      ]
     },
     "execution_count": 885,
     "metadata": {},
     "output_type": "execute_result"
    }
   ],
   "source": [
    "do_calc(1000000)"
   ]
  },
  {
   "cell_type": "code",
   "execution_count": 879,
   "metadata": {
    "scrolled": true
   },
   "outputs": [
    {
     "data": {
      "image/png": "[encoded data removed]",
      "text/plain": [
       "<Figure size 432x288 with 1 Axes>"
      ]
     },
     "metadata": {
      "needs_background": "light"
     },
     "output_type": "display_data"
    }
   ],
   "source": [
    "plotHists(uniform.rvs(2,2,10000))"
   ]
  },
  {
   "cell_type": "code",
   "execution_count": 893,
   "metadata": {},
   "outputs": [],
   "source": [
    "def gen_eta_2(n):\n",
    "    k = halfnorm.cdf(4) - halfnorm.cdf(2)\n",
    "    kInv = 1 / k\n",
    "    \n",
    "    count = 0\n",
    "    generated = 0\n",
    "    for r in range(10000):\n",
    "        size = int(kInv * (n - count))\n",
    "        generated += size\n",
    "        for rv in halfnorm.rvs(size=size):\n",
    "            if count == n:\n",
    "                return\n",
    "            if 2 <= rv <= 4:\n",
    "                count += 1\n",
    "                yield rv\n",
    "\n",
    " \n",
    "def gen_eta_1(n):\n",
    "    k = 1 - halfnorm.cdf(3)\n",
    "    kInv = 1 / k\n",
    "    \n",
    "    count = 0\n",
    "    generated = 0 \n",
    "    for r in range(10000):\n",
    "        size = int(kInv * (n - count))\n",
    "        generated += size\n",
    "        for rv in halfnorm.rvs(size=size):\n",
    "            if count == n:\n",
    "                return\n",
    "            if rv >= 3:\n",
    "                count += 1\n",
    "                yield rv"
   ]
  },
  {
   "cell_type": "code",
   "execution_count": 899,
   "metadata": {},
   "outputs": [
    {
     "data": {
      "text/plain": [
       "(3.194616149185896e-05, 0.20046949625506097, 0.00301999416288532)"
      ]
     },
     "execution_count": 899,
     "metadata": {},
     "output_type": "execute_result"
    }
   ],
   "source": [
    "sample_size = 100\n",
    "k1 = halfnorm.cdf(4) - halfnorm.cdf(2)\n",
    "k2 = 1 - halfnorm.cdf(3) \n",
    "sample = np.array([2 / np.pi * np.log( 1 + (eta2 / eta1)**2 ) \n",
    "          for eta1, eta2 in zip(gen_eta_1(sample_size), gen_eta_2(sample_size))])\n",
    "\n",
    "sample = k1 * k2 * sample\n",
    "\n",
    "def calc_stats(values):\n",
    "    mean = np.mean(values)\n",
    "    std_dev = np.mean((values - m)**2)\n",
    "    exp_err = 0.6745 * np.sqrt(std_dev / n)\n",
    "    return mean, std_dev, exp_err\n",
    "\n",
    "calc_stats(sample)"
   ]
  },
  {
   "cell_type": "code",
   "execution_count": 891,
   "metadata": {},
   "outputs": [
    {
     "data": {
      "text/plain": [
       "4.026103904665498e-09"
      ]
     },
     "execution_count": 891,
     "metadata": {},
     "output_type": "execute_result"
    }
   ],
   "source": [
    "k1 = halfnorm.cdf(4) - halfnorm.cdf(2)\n",
    "k2 = 1 - halfnorm.cdf(3) \n",
    "k1 * k2 * sample.mean()"
   ]
  },
  {
   "cell_type": "code",
   "execution_count": 689,
   "metadata": {},
   "outputs": [
    {
     "data": {
      "text/plain": [
       "0.409120203888782"
      ]
     },
     "execution_count": 689,
     "metadata": {},
     "output_type": "execute_result"
    }
   ],
   "source": [
    "sample.mean()"
   ]
  },
  {
   "cell_type": "code",
   "execution_count": 567,
   "metadata": {},
   "outputs": [
    {
     "data": {
      "text/plain": [
       "0.00012267042155664974"
      ]
     },
     "execution_count": 567,
     "metadata": {},
     "output_type": "execute_result"
    }
   ],
   "source": [
    "k1 * k2"
   ]
  },
  {
   "cell_type": "markdown",
   "metadata": {},
   "source": [
    "Ок, раз уж не работает, попробую пример с хабра\n",
    "    \n",
    "   "
   ]
  },
  {
   "cell_type": "code",
   "execution_count": null,
   "metadata": {},
   "outputs": [],
   "source": []
  }
 ],
 "metadata": {
  "kernelspec": {
   "display_name": "Python 3",
   "language": "python",
   "name": "python3"
  },
  "language_info": {
   "codemirror_mode": {
    "name": "ipython",
    "version": 3
   },
   "file_extension": ".py",
   "mimetype": "text/x-python",
   "name": "python",
   "nbconvert_exporter": "python",
   "pygments_lexer": "ipython3",
   "version": "3.9.0"
  }
 },
 "nbformat": 4,
 "nbformat_minor": 4
}
